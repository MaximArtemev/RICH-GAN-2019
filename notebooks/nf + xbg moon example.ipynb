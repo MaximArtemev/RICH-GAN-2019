{
 "cells": [
  {
   "cell_type": "code",
   "execution_count": 2,
   "metadata": {},
   "outputs": [
    {
     "name": "stdout",
     "output_type": "stream",
     "text": [
      "env: CUDA_VISIBLE_DEVICES=3\n"
     ]
    }
   ],
   "source": [
    "%env CUDA_VISIBLE_DEVICES=3"
   ]
  },
  {
   "cell_type": "code",
   "execution_count": 80,
   "metadata": {},
   "outputs": [],
   "source": [
    "from sklearn.datasets import make_moons\n",
    "from sklearn.model_selection import train_test_split\n",
    "\n",
    "import numpy as np\n",
    "import pandas as pd\n",
    "\n",
    "import torch\n",
    "import torch.nn as nn\n",
    "import torch.optim as optim\n",
    "import torch.nn.functional as F\n",
    "from torch.distributions import MultivariateNormal\n",
    "\n",
    "from nf.flows import FCNN\n",
    "\n",
    "import matplotlib.pyplot as plt\n",
    "from IPython.display import clear_output\n",
    "import xgboost as xgb\n",
    "\n",
    "%matplotlib inline"
   ]
  },
  {
   "cell_type": "code",
   "execution_count": 14,
   "metadata": {},
   "outputs": [],
   "source": [
    "device = torch.device(\"cuda\" if torch.cuda.is_available() else \"cpu\")"
   ]
  },
  {
   "cell_type": "code",
   "execution_count": 4,
   "metadata": {},
   "outputs": [],
   "source": [
    "class NormalizingFlowModel(nn.Module):\n",
    "\n",
    "    def __init__(self, dim, prior, flows):\n",
    "        super().__init__()\n",
    "        self.dim = dim\n",
    "        self.prior = prior\n",
    "        self.flows = nn.ModuleList(flows)\n",
    "\n",
    "    def forward(self, x):\n",
    "        m, _ = x.shape\n",
    "        log_det = torch.zeros(m).to(x.device)\n",
    "        for flow in self.flows:\n",
    "            x, ld = flow.forward(x)\n",
    "            log_det += ld\n",
    "        z, prior_logprob = x, self.prior.log_prob(x)\n",
    "        return z, prior_logprob, log_det\n",
    "\n",
    "    def backward(self, z):\n",
    "        m, _ = z.shape\n",
    "        log_det = torch.zeros(m).to(z.device)\n",
    "        for flow in self.flows[::-1]:\n",
    "            z, ld = flow.backward(z)\n",
    "            log_det += ld\n",
    "        x = z\n",
    "        return x, log_det\n",
    "\n",
    "    def sample(self, n_samples):\n",
    "        z = self.prior.sample((n_samples,self.dim))\n",
    "        if z.dim() != 2: z = self.prior.sample((n_samples,))\n",
    "        x, _ = self.backward(z)\n",
    "        return x"
   ]
  },
  {
   "cell_type": "code",
   "execution_count": 19,
   "metadata": {},
   "outputs": [],
   "source": [
    "class MAF(nn.Module):\n",
    "    \"\"\"\n",
    "    Masked auto-regressive flow.\n",
    "\n",
    "    [Papamakarios et al. 2018]\n",
    "    \"\"\"\n",
    "    def __init__(self, dim, hidden_dim = 8, base_network=FCNN):\n",
    "        super().__init__()\n",
    "        self.dim = dim\n",
    "        self.layers = nn.ModuleList()\n",
    "        self.initial_param = nn.Parameter(torch.Tensor(2))\n",
    "        for i in range(1, dim):\n",
    "            self.layers += [base_network(i, 2, hidden_dim)]\n",
    "        self.reset_parameters()\n",
    "\n",
    "    def reset_parameters(self):\n",
    "        torch.nn.init.uniform_(self.initial_param, -np.sqrt(0.5), np.sqrt(0.5))\n",
    "\n",
    "    def forward(self, x):\n",
    "        z = torch.zeros_like(x)\n",
    "        log_det = torch.zeros(z.shape[0]).to(x.device)\n",
    "        for i in range(self.dim):\n",
    "            if i == 0:\n",
    "                mu, alpha = self.initial_param[0], self.initial_param[1]\n",
    "            else:\n",
    "                out = self.layers[i - 1](x[:, :i])\n",
    "                mu, alpha = out[:, 0], out[:, 1]\n",
    "            z[:, i] = (x[:, i] - mu) / torch.exp(alpha)\n",
    "            log_det -= alpha\n",
    "        return z.flip(dims=(1,)), log_det\n",
    "\n",
    "    def backward(self, z):\n",
    "        x = torch.zeros_like(z)\n",
    "        log_det = torch.zeros(z.shape[0]).to(z.device)\n",
    "        z = z.flip(dims=(1,))\n",
    "        for i in range(self.dim):\n",
    "            if i == 0:\n",
    "                mu, alpha = self.initial_param[0], self.initial_param[1]\n",
    "            else:\n",
    "                out = self.layers[i - 1](x[:, :i])\n",
    "                mu, alpha = out[:, 0], out[:, 1]\n",
    "            x[:, i] = mu + torch.exp(alpha) * z[:, i]\n",
    "            log_det += alpha\n",
    "        return x, log_det"
   ]
  },
  {
   "cell_type": "code",
   "execution_count": 54,
   "metadata": {},
   "outputs": [
    {
     "data": {
      "text/plain": [
       "<matplotlib.collections.PathCollection at 0x7f7112ceebe0>"
      ]
     },
     "execution_count": 54,
     "metadata": {},
     "output_type": "execute_result"
    },
    {
     "data": {
      "image/png": "[encoded data removed]",
      "text/plain": [
       "<Figure size 432x288 with 1 Axes>"
      ]
     },
     "metadata": {
      "needs_background": "light"
     },
     "output_type": "display_data"
    }
   ],
   "source": [
    "X, _ = make_moons(1000)\n",
    "n, dim = X.shape\n",
    "X += np.random.normal(0, 0.05, X.shape)\n",
    "X = X.astype(np.float32)\n",
    "X_train, X_test = X[: n * 7 // 10], X[n * 7 // 10: ]\n",
    "\n",
    "plt.scatter(X_train[:, 0], X_train[:, 1])"
   ]
  },
  {
   "cell_type": "code",
   "execution_count": 55,
   "metadata": {},
   "outputs": [
    {
     "data": {
      "text/plain": [
       "2.0946734"
      ]
     },
     "execution_count": 55,
     "metadata": {},
     "output_type": "execute_result"
    }
   ],
   "source": [
    "np.max(X_train[:, 0])"
   ]
  },
  {
   "cell_type": "code",
   "execution_count": 56,
   "metadata": {},
   "outputs": [],
   "source": [
    "X_train_tensor = torch.from_numpy(X_train).to(device)\n",
    "X_test_tensor = torch.from_numpy(X_test).to(device)"
   ]
  },
  {
   "cell_type": "code",
   "execution_count": 66,
   "metadata": {},
   "outputs": [],
   "source": [
    "prior = MultivariateNormal(torch.zeros(dim).to(device), torch.eye(dim).to(device))\n",
    "model = NormalizingFlowModel(dim, prior, [MAF(dim), MAF(dim)]).to(device)\n",
    "optimizer = optim.Adam(model.parameters(), lr=0.005)"
   ]
  },
  {
   "cell_type": "code",
   "execution_count": 67,
   "metadata": {},
   "outputs": [],
   "source": [
    "epoches = 1000\n",
    "metrics = []"
   ]
  },
  {
   "cell_type": "code",
   "execution_count": 68,
   "metadata": {},
   "outputs": [
    {
     "data": {
      "text/plain": [
       "torch.float32"
      ]
     },
     "execution_count": 68,
     "metadata": {},
     "output_type": "execute_result"
    }
   ],
   "source": [
    "X_test_tensor.dtype"
   ]
  },
  {
   "cell_type": "code",
   "execution_count": 69,
   "metadata": {},
   "outputs": [
    {
     "data": {
      "image/png": "[encoded data removed]",
      "text/plain": [
       "<Figure size 1080x432 with 2 Axes>"
      ]
     },
     "metadata": {
      "needs_background": "light"
     },
     "output_type": "display_data"
    }
   ],
   "source": [
    "for epoch in range(len(metrics), epoches):\n",
    "    model.train()\n",
    "    optimizer.zero_grad()\n",
    "    z, logp_z, log_det = model(X_train_tensor)\n",
    "    logp_x = logp_z + log_det\n",
    "    loss = -torch.mean(logp_x)\n",
    "    loss.backward()\n",
    "    optimizer.step()\n",
    "    metrics.append(loss.mean().detach().cpu())\n",
    "\n",
    "    if epoch % 10 == 0:\n",
    "        model.eval()\n",
    "        with torch.no_grad():\n",
    "            X_val = np.transpose(np.dstack(np.meshgrid(\n",
    "                np.arange(np.min(X_test[:, 0]), np.max(X_test[:, 0]), 0.05),\n",
    "                np.arange(np.min(X_test[:, 1]), np.max(X_test[:, 1]), 0.05),\n",
    "            )), axes=[1, 0, 2]).astype(np.float32)\n",
    "            \n",
    "            z, logp_z, log_det = model(\n",
    "                torch.from_numpy(X_val.reshape(-1, 2)).to(device),\n",
    "            )\n",
    "            log_probs = logp_z + log_det\n",
    "            log_probs = log_probs.detach().cpu().numpy()\n",
    "            \n",
    "        probs = np.exp(log_probs).reshape(X_val.shape[0], X_val.shape[1])\n",
    "\n",
    "        clear_output(False)\n",
    "        fig, axs = plt.subplots(1, 2, figsize=(15, 6))\n",
    "\n",
    "        axs[0].plot(np.arange(len(metrics)), metrics)\n",
    "        axs[1].imshow(probs)\n",
    "\n",
    "    plt.show()"
   ]
  },
  {
   "cell_type": "code",
   "execution_count": 98,
   "metadata": {},
   "outputs": [
    {
     "data": {
      "text/plain": [
       "<matplotlib.legend.Legend at 0x7f70f1be3a90>"
      ]
     },
     "execution_count": 98,
     "metadata": {},
     "output_type": "execute_result"
    },
    {
     "data": {
      "image/png": "[encoded data removed]",
      "text/plain": [
       "<Figure size 432x288 with 1 Axes>"
      ]
     },
     "metadata": {
      "needs_background": "light"
     },
     "output_type": "display_data"
    }
   ],
   "source": [
    "X_generated = model.sample(len(X_test)).detach().cpu().numpy()\n",
    "y_generated = np.zeros(len(X_generated))\n",
    "y_test = np.ones(len(X_test))\n",
    "\n",
    "X_clf = np.vstack([X_test, X_generated])\n",
    "y_clf = np.hstack([y_test, y_generated])\n",
    "\n",
    "plt.scatter(X_clf[y_clf==0][:, 0], X_clf[y_clf==0][:, 1], c='red', label='generated')\n",
    "plt.scatter(X_clf[y_clf==1][:, 0], X_clf[y_clf==1][:, 1], c='blue', label='true')\n",
    "\n",
    "plt.legend()"
   ]
  },
  {
   "cell_type": "code",
   "execution_count": 99,
   "metadata": {},
   "outputs": [
    {
     "data": {
      "text/plain": [
       "((600, 2), (600,))"
      ]
     },
     "execution_count": 99,
     "metadata": {},
     "output_type": "execute_result"
    }
   ],
   "source": [
    "X_clf.shape, y_clf.shape"
   ]
  },
  {
   "cell_type": "code",
   "execution_count": 75,
   "metadata": {},
   "outputs": [],
   "source": [
    "params = dict(\n",
    "    max_depth=5,\n",
    "    n_estimators=100,\n",
    "    learning_rate=0.1,\n",
    "    min_child_weight=50,\n",
    "    n_jobs=4\n",
    ")\n",
    "xgb_model = xgb.XGBClassifier(**params)"
   ]
  },
  {
   "cell_type": "code",
   "execution_count": null,
   "metadata": {},
   "outputs": [],
   "source": [
    "xgb_model.fit(\n",
    "    X=cls_train[dlls + features].values,\n",
    "    y=cls_train['IsGenerated'].values.astype('int32'),\n",
    "    sample_weight=cls_train[weight_filed]\n",
    ")"
   ]
  },
  {
   "cell_type": "code",
   "execution_count": 73,
   "metadata": {},
   "outputs": [
    {
     "data": {
      "text/plain": [
       "array([2.15570021e+00, 8.51000026e-02, 8.79709303e-01, 7.94884503e-01,\n",
       "       1.82042789e+00, 6.62808120e-01, 3.15943420e-01, 1.44438660e+00,\n",
       "       1.52643585e+00, 1.90970138e-01, 8.77812147e-01, 8.91551912e-01,\n",
       "       3.35627090e-04, 1.06136882e+00, 3.54144841e-01, 1.75523591e+00,\n",
       "       1.03051221e+00, 8.97478044e-01, 1.73104441e+00, 1.15626609e+00,\n",
       "       7.79561698e-01, 1.38287568e+00, 4.89687860e-01, 9.47735846e-01,\n",
       "       1.11285186e+00, 1.61176670e+00, 2.32500821e-01, 1.34452850e-01,\n",
       "       4.40781921e-01, 1.92537293e-01, 3.86678129e-01, 5.03889143e-01,\n",
       "       4.53159988e-01, 6.05910242e-01, 8.33416045e-01, 6.79364264e-01,\n",
       "       2.96629190e-01, 6.98056281e-01, 9.61500347e-01, 1.04497278e+00,\n",
       "       5.87734342e-01, 3.17794263e-01, 1.02810729e+00, 3.82516772e-01,\n",
       "       1.22545175e-01, 1.29262835e-01, 6.71341121e-01, 7.84181714e-01,\n",
       "       3.00783068e-01, 1.57165349e+00, 9.28771973e-01, 2.14697272e-02,\n",
       "       2.00667202e-01, 4.87694710e-01, 8.23843658e-01, 1.86962232e-01,\n",
       "       1.27953613e+00, 3.30878347e-01, 9.15790915e-01, 1.60078788e+00,\n",
       "       7.49412715e-01, 4.44401145e-01, 8.85121763e-01, 7.98840665e-06,\n",
       "       7.99316883e-01, 1.31015748e-01, 7.45355964e-01, 4.43540126e-01,\n",
       "       2.44448870e-01, 3.97477567e-01, 5.49023211e-01, 5.52921057e-01,\n",
       "       5.54015100e-01, 6.01352990e-01, 6.39715075e-01, 6.60739541e-01,\n",
       "       1.67255020e+00, 7.50661552e-01, 4.68628049e-01, 5.65369963e-04,\n",
       "       2.49768645e-02, 4.17190462e-01, 7.34746397e-01, 4.34203297e-01,\n",
       "       4.97913212e-01, 5.68415046e-01, 4.52392012e-01, 3.53491634e-01,\n",
       "       4.63979125e-01, 9.36494589e-01, 9.11097288e-01, 1.54768419e+00,\n",
       "       8.84650350e-01, 6.23578668e-01, 3.90373915e-01, 2.67242283e-01,\n",
       "       1.27811894e-01, 2.09554091e-01, 6.56015992e-01, 7.89362907e-01,\n",
       "       2.60367304e-01, 1.97101340e-01, 2.69668791e-02, 7.38143504e-01,\n",
       "       1.02752423e+00, 5.26166499e-01, 9.90155712e-02, 6.66321695e-01,\n",
       "       3.75603944e-01, 1.07810092e+00, 9.77102331e-07, 4.66231972e-01,\n",
       "       1.69662571e+00, 6.37086272e-01, 8.15625712e-02, 9.67780292e-01,\n",
       "       7.33411133e-01, 7.53926098e-01, 6.90974593e-01, 1.12688339e+00,\n",
       "       8.31137002e-01, 1.21193862e+00, 3.37109983e-01, 1.21787536e+00,\n",
       "       1.01523757e+00, 1.29428998e-01, 5.27585864e-01, 1.08472753e+00,\n",
       "       4.33073014e-01, 8.68775666e-01, 8.05615783e-01, 5.69446981e-01,\n",
       "       1.14789508e-01, 5.11534750e-01, 1.06671453e+00, 8.72717202e-01,\n",
       "       6.07772648e-01, 3.24445963e-01, 1.14156969e-01, 9.15866971e-01,\n",
       "       3.87764394e-01, 9.18848038e-01, 6.32196844e-01, 7.14799643e-01,\n",
       "       7.16025114e-01, 5.06804585e-01, 1.46171331e+00, 4.99157995e-01,\n",
       "       1.54203311e-01, 4.42087263e-01, 6.50148392e-01, 1.90348434e+00,\n",
       "       1.46873072e-01, 4.13012952e-01, 5.09258270e-01, 8.39519322e-01,\n",
       "       5.25257051e-01, 7.89080799e-01, 3.60948950e-01, 3.95781755e-01,\n",
       "       3.26761961e-01, 9.02393281e-01, 2.09791139e-01, 2.23400332e-02,\n",
       "       7.50348449e-01, 1.09151530e+00, 4.60666478e-01, 5.13910949e-01,\n",
       "       6.72166646e-01, 1.84960496e+00, 7.67122269e-01, 2.50482321e-01,\n",
       "       5.27458668e-01, 1.28631920e-01, 8.83784831e-01, 9.23129618e-01,\n",
       "       9.21589375e-01, 4.72813219e-01, 3.77318233e-01, 5.89057088e-01,\n",
       "       2.58921355e-01, 4.18799192e-01, 8.25609863e-01, 9.55960929e-01,\n",
       "       1.08824384e+00, 1.41337228e+00, 5.77392161e-01, 2.75199115e-01,\n",
       "       2.12730980e+00, 1.20513678e+00, 8.09994221e-01, 4.79068249e-01,\n",
       "       3.77265424e-01, 1.30223918e+00, 9.17441189e-01, 9.19719756e-01,\n",
       "       8.48894954e-01, 9.67357695e-01, 7.17468619e-01, 4.10798699e-01,\n",
       "       1.63234305e+00, 2.87657115e-03, 8.26343715e-01, 7.65925586e-01,\n",
       "       5.50963938e-01, 1.01563799e+00, 1.71857476e+00, 3.74174565e-01,\n",
       "       1.38689923e+00, 2.28848368e-01, 5.79606533e-01, 3.61528605e-01,\n",
       "       1.68886080e-01, 6.14343107e-01, 6.59618080e-01, 6.73623502e-01,\n",
       "       4.18131411e-01, 2.51122355e-01, 9.11417782e-01, 1.05552149e+00,\n",
       "       7.59903908e-01, 8.05414081e-01, 1.65633306e-01, 2.96900868e-01,\n",
       "       7.82724142e-01, 3.87590230e-01, 6.85990810e-01, 4.19721246e-01,\n",
       "       5.47668099e-01, 6.10549748e-01, 9.71497059e-01, 8.37064981e-01,\n",
       "       1.31409514e+00, 2.74976194e-01, 1.14357257e+00, 5.50451398e-01,\n",
       "       8.95042181e-01, 3.76507849e-01, 4.03450012e-01, 3.54870647e-01,\n",
       "       1.30058169e+00, 7.70649850e-01, 6.93266764e-02, 8.23100984e-01,\n",
       "       1.19606614e+00, 5.06985784e-01, 2.41308734e-01, 1.01180553e+00,\n",
       "       4.25519198e-01, 1.27718270e+00, 5.83405375e-01, 5.69968164e-01,\n",
       "       3.65093678e-01, 1.39382794e-01, 4.23158795e-01, 8.08474422e-01,\n",
       "       3.33980888e-01, 8.85215878e-01, 1.27818942e+00, 7.85426974e-01,\n",
       "       6.92086339e-01, 1.62485823e-01, 7.24331737e-01, 1.09808111e+00,\n",
       "       5.40294111e-01, 1.59897104e-01, 8.09745669e-01, 1.53298378e+00,\n",
       "       3.61337349e-10, 1.59663701e+00, 1.05406952e+00, 4.50030059e-01,\n",
       "       5.87600917e-02, 4.01987791e-01, 7.41337419e-01, 3.89002979e-01,\n",
       "       3.32415760e-01, 1.73346961e+00, 3.21086556e-01, 4.39982980e-01,\n",
       "       2.80700892e-01, 8.86120319e-01, 4.71670963e-02, 4.80010718e-01,\n",
       "       7.17032075e-01, 1.36484444e+00, 3.88862163e-01, 3.53937209e-01,\n",
       "       2.01857710e+00, 5.22539854e-01, 7.43766189e-01, 8.80388975e-01,\n",
       "       4.64908808e-01, 5.06216466e-01, 1.14902484e+00, 1.19598582e-01,\n",
       "       1.43843085e-01, 7.76324034e-01, 5.18863261e-01, 1.56348610e+00],\n",
       "      dtype=float32)"
      ]
     },
     "execution_count": 73,
     "metadata": {},
     "output_type": "execute_result"
    }
   ],
   "source": [
    "model.eval()\n",
    "with torch.no_grad():\n",
    "    z, logp_z, log_det = model(X_test_tensor)\n",
    "    log_probs = logp_z + log_det\n",
    "    log_probs = log_probs.detach().cpu().numpy()\n",
    "np.exp(log_probs)"
   ]
  },
  {
   "cell_type": "code",
   "execution_count": null,
   "metadata": {},
   "outputs": [],
   "source": []
  },
  {
   "cell_type": "code",
   "execution_count": null,
   "metadata": {},
   "outputs": [],
   "source": []
  },
  {
   "cell_type": "code",
   "execution_count": null,
   "metadata": {},
   "outputs": [],
   "source": []
  },
  {
   "cell_type": "code",
   "execution_count": null,
   "metadata": {},
   "outputs": [],
   "source": []
  }
 ],
 "metadata": {
  "kernelspec": {
   "display_name": "Python 3",
   "language": "python",
   "name": "python3"
  },
  "language_info": {
   "codemirror_mode": {
    "name": "ipython",
    "version": 3
   },
   "file_extension": ".py",
   "mimetype": "text/x-python",
   "name": "python",
   "nbconvert_exporter": "python",
   "pygments_lexer": "ipython3",
   "version": "3.6.9"
  }
 },
 "nbformat": 4,
 "nbformat_minor": 4
}
