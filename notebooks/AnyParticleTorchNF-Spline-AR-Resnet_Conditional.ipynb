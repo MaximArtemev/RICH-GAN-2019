{
 "cells": [
  {
   "cell_type": "code",
   "execution_count": 1,
   "metadata": {},
   "outputs": [],
   "source": [
    "from comet_ml import Experiment\n",
    "\n",
    "import os\n",
    "os.environ[\"CUDA_VISIBLE_DEVICES\"]=\"3\"\n",
    "\n"
   ]
  },
  {
   "cell_type": "code",
   "execution_count": 2,
   "metadata": {},
   "outputs": [],
   "source": [
    "import torch\n",
    "from torch import nn\n",
    "import torch.nn.functional as F\n",
    "\n",
    "import numpy as np\n",
    "import pandas as pd\n",
    "import matplotlib.pyplot as plt\n",
    "\n",
    "from tqdm.notebook import tqdm as tqdm_notebook\n",
    "from tqdm import tqdm as tqdm\n",
    "import itertools\n",
    "\n",
    "import seaborn as sns\n",
    "from IPython.display import clear_output\n",
    "\n",
    "\n",
    "from rich_utils import data_preprocessing\n",
    "\n",
    "\n",
    "\n",
    "%matplotlib inline\n"
   ]
  },
  {
   "cell_type": "code",
   "execution_count": 3,
   "metadata": {},
   "outputs": [],
   "source": [
    "PARTICLE_TYPE = 'kaon'\n",
    "MODEL_NAME = \"NF_{}_test_spline_conditional\".format(PARTICLE_TYPE)\n",
    "\n",
    "BATCH_SIZE = int(1e3)\n",
    "LATENT_DIMENSIONS = 64\n",
    "\n",
    "N_VAL = int(1e6)\n",
    "device = 'cuda' if torch.cuda.is_available() else 'cpu'\n",
    "\n",
    "NUM_LAYERS = 5"
   ]
  },
  {
   "cell_type": "markdown",
   "metadata": {},
   "source": [
    "## Data"
   ]
  },
  {
   "cell_type": "code",
   "execution_count": 4,
   "metadata": {},
   "outputs": [
    {
     "name": "stdout",
     "output_type": "stream",
     "text": [
      "Reading and concatenating datasets:\n",
      "\t../data/data_calibsample/kaon_+_down_2016_.csv\n",
      "\t../data/data_calibsample/kaon_-_up_2016_.csv\n",
      "\t../data/data_calibsample/kaon_+_up_2016_.csv\n",
      "\t../data/data_calibsample/kaon_-_down_2016_.csv\n",
      "\t../data/data_calibsample/kaon2_+_up_2016_.csv\n",
      "\t../data/data_calibsample/kaon2_-_down_2016_.csv\n",
      "\t../data/data_calibsample/kaon2_+_down_2016_.csv\n",
      "\t../data/data_calibsample/kaon2_-_up_2016_.csv\n",
      "scaler train sample size: 2800000\n",
      "scaler n_quantiles: 100000, time = 2.4983952045440674\n",
      "converting dtype to <class 'numpy.float32'>\n"
     ]
    }
   ],
   "source": [
    "data_train, data_val, scaler = data_preprocessing.get_merged_typed_dataset(PARTICLE_TYPE, dtype=np.float32)"
   ]
  },
  {
   "cell_type": "code",
   "execution_count": 5,
   "metadata": {},
   "outputs": [],
   "source": [
    "from rich_utils import data_processing\n",
    "\n",
    "train_loader = data_processing.getLoader(data_train, batch_size=BATCH_SIZE, shuffle=True, pin_memory=True)\n",
    "val_loader = data_processing.getLoader(data_val, batch_size=BATCH_SIZE, shuffle=True, pin_memory=True)"
   ]
  },
  {
   "cell_type": "code",
   "execution_count": 6,
   "metadata": {},
   "outputs": [],
   "source": [
    "from torch import distributions\n",
    "from torch.distributions import MultivariateNormal, Uniform, TransformedDistribution, SigmoidTransform\n",
    "from torch.nn.parameter import Parameter\n",
    "\n",
    "from nflib.flows import (\n",
    "    AffineConstantFlow, ActNorm, AffineHalfFlow, MAF, IAF, Invertible1x1Conv,\n",
    "    NormalizingFlow, NormalizingFlowModel, RandomPerm\n",
    ")\n",
    "from nflib.spline_flows import NSF_AR, NSF_CL\n"
   ]
  },
  {
   "cell_type": "code",
   "execution_count": 7,
   "metadata": {},
   "outputs": [
    {
     "data": {
      "image/png": "[encoded data removed]",
      "text/plain": [
       "<Figure size 1080x1080 with 6 Axes>"
      ]
     },
     "metadata": {
      "needs_background": "light"
     },
     "output_type": "display_data"
    }
   ],
   "source": [
    "fig, axes = plt.subplots(3, 2, figsize=(15, 15))\n",
    "for INDEX, ax in zip((0, 1, 2, 3, 4), axes.flatten()):\n",
    "    _, bins, _ = ax.hist(data_train[data_preprocessing.dll_columns].iloc[:, INDEX],\n",
    "                         bins=100,\n",
    "                         label=\"train\",\n",
    "                         density=True,\n",
    "                         weights=data_train[data_preprocessing.weight_col].values.reshape(-1))\n",
    "    ax.hist(data_val[data_preprocessing.dll_columns].iloc[:, INDEX],\n",
    "                         bins=100,\n",
    "                         label=\"val\",\n",
    "                         density=True,\n",
    "                         alpha=0.5,\n",
    "                         weights=data_val[data_preprocessing.weight_col].values.reshape(-1))\n",
    "    ax.set_title(data_preprocessing.dll_columns[INDEX])\n",
    "\n",
    "ax.legend()\n",
    "plt.show()"
   ]
  },
  {
   "cell_type": "code",
   "execution_count": 8,
   "metadata": {},
   "outputs": [],
   "source": [
    "from nflib.nets import ResidualNet"
   ]
  },
  {
   "cell_type": "markdown",
   "metadata": {},
   "source": [
    "## Model"
   ]
  },
  {
   "cell_type": "code",
   "execution_count": 9,
   "metadata": {},
   "outputs": [
    {
     "name": "stdout",
     "output_type": "stream",
     "text": [
      "number of params:  166705\n"
     ]
    }
   ],
   "source": [
    "dim = data_preprocessing.y_count\n",
    "\n",
    "prior = MultivariateNormal(torch.zeros(dim).to(device), torch.eye(dim).to(device))\n",
    "\n",
    "flows = []\n",
    "for i in range(NUM_LAYERS):\n",
    "    flows.append(NSF_AR(dim=dim, K=8, B=3,\n",
    "                        hidden_dim=32,\n",
    "                        base_network=ResidualNet,\n",
    "                        context=len(data_preprocessing.raw_feature_columns),\n",
    "                        num_blocks=3))\n",
    "    flows.append(ActNorm(dim=dim))\n",
    "model = NormalizingFlowModel(prior, flows).to(device)\n",
    "        \n",
    "# optimizer\n",
    "optimizer = torch.optim.Adam(model.parameters(), lr=1e-4) # todo tune WD\n",
    "print(\"number of params: \", sum(p.numel() for p in model.parameters()))        \n"
   ]
  },
  {
   "cell_type": "code",
   "execution_count": 10,
   "metadata": {},
   "outputs": [],
   "source": [
    "batch = next(iter(train_loader))\n",
    "x, weight, dll = [i.to(device) for i in batch]\n",
    "zs, prior_logprob, log_det = model(dll, context=x)\n"
   ]
  },
  {
   "cell_type": "code",
   "execution_count": 12,
   "metadata": {},
   "outputs": [
    {
     "data": {
      "text/plain": [
       "torch.Size([1000, 5])"
      ]
     },
     "execution_count": 12,
     "metadata": {},
     "output_type": "execute_result"
    }
   ],
   "source": [
    "model.sample(BATCH_SIZE, context=x)[0].shape"
   ]
  },
  {
   "cell_type": "markdown",
   "metadata": {},
   "source": [
    "## Train"
   ]
  },
  {
   "cell_type": "code",
   "execution_count": 13,
   "metadata": {},
   "outputs": [],
   "source": [
    "LOGDIR = \"./log\"\n",
    "\n",
    "TOTAL_ITERATIONS = int(1e5)\n",
    "VALIDATION_INTERVAL = 5\n"
   ]
  },
  {
   "cell_type": "code",
   "execution_count": 14,
   "metadata": {},
   "outputs": [
    {
     "name": "stderr",
     "output_type": "stream",
     "text": [
      "COMET INFO: old comet version (3.0.2) detected. current: 3.1.0 please update your comet lib with command: `pip install --no-cache-dir --upgrade comet_ml`\n",
      "COMET WARNING: Failing to collect the installed os packages\n",
      "COMET INFO: Experiment is live on comet.ml https://www.comet.ml/maximartemev/rich2019/72fd32694ab04290a4741d580f47affb\n",
      "\n"
     ]
    }
   ],
   "source": [
    "experiment = Experiment(api_key=\"HIZapbzNjFips0c32Co7gXkQZ\",\n",
    "                        project_name=\"rich2019\", workspace=\"maximartemev\", disabled=False)\n"
   ]
  },
  {
   "cell_type": "code",
   "execution_count": 15,
   "metadata": {},
   "outputs": [],
   "source": [
    "def plot_compare(real, generated, weights, title):\n",
    "    fig, axes = plt.subplots(3, 2, figsize=(15, 15))\n",
    "    for INDEX, ax in zip((0, 1, 2, 3, 4), axes.flatten()):\n",
    "        _, bins, _ = ax.hist(real[:, INDEX],\n",
    "                             bins=100,\n",
    "                             label=\"data\",\n",
    "                             density=True,\n",
    "                             weights=weights)\n",
    "        ax.hist(generated[:, INDEX],\n",
    "                bins=bins,\n",
    "                label=\"generated\",\n",
    "                alpha=0.5,\n",
    "                density=True,\n",
    "                weights=weights)\n",
    "        ax.legend()\n",
    "        ax.set_title(data_preprocessing.dll_columns[INDEX])\n",
    "    plt.title(title)\n"
   ]
  },
  {
   "cell_type": "code",
   "execution_count": null,
   "metadata": {},
   "outputs": [
    {
     "data": {
      "application/vnd.jupyter.widget-view+json": {
       "model_id": "838bab6205ba4a2796f5bfbdc4fea74c",
       "version_major": 2,
       "version_minor": 0
      },
      "text/plain": [
       "HBox(children=(FloatProgress(value=0.0, description='val loop', max=1200.0, style=ProgressStyle(description_wi…"
      ]
     },
     "metadata": {},
     "output_type": "display_data"
    },
    {
     "name": "stdout",
     "output_type": "stream",
     "text": [
      "\n"
     ]
    },
    {
     "data": {
      "image/png": "[encoded data removed]",
      "text/plain": [
       "<Figure size 1080x1080 with 6 Axes>"
      ]
     },
     "metadata": {
      "needs_background": "light"
     },
     "output_type": "display_data"
    },
    {
     "data": {
      "image/png": "[encoded data removed]",
      "text/plain": [
       "<Figure size 1080x1080 with 6 Axes>"
      ]
     },
     "metadata": {
      "needs_background": "light"
     },
     "output_type": "display_data"
    },
    {
     "name": "stderr",
     "output_type": "stream",
     "text": [
      "\r",
      "  0%|          | 61/100000 [24:43:48<39940:58:06, 1438.75s/it]"
     ]
    },
    {
     "data": {
      "application/vnd.jupyter.widget-view+json": {
       "model_id": "",
       "version_major": 2,
       "version_minor": 0
      },
      "text/plain": [
       "HBox(children=(FloatProgress(value=0.0, max=2800.0), HTML(value='')))"
      ]
     },
     "metadata": {},
     "output_type": "display_data"
    },
    {
     "name": "stderr",
     "output_type": "stream",
     "text": [
      "\r",
      "  0%|          | 62/100000 [25:06:20<39217:57:21, 1412.72s/it]"
     ]
    },
    {
     "data": {
      "application/vnd.jupyter.widget-view+json": {
       "model_id": "",
       "version_major": 2,
       "version_minor": 0
      },
      "text/plain": [
       "HBox(children=(FloatProgress(value=0.0, max=2800.0), HTML(value='')))"
      ]
     },
     "metadata": {},
     "output_type": "display_data"
    },
    {
     "name": "stderr",
     "output_type": "stream",
     "text": [
      "\r",
      "  0%|          | 63/100000 [25:28:51<38703:38:38, 1394.21s/it]"
     ]
    },
    {
     "data": {
      "application/vnd.jupyter.widget-view+json": {
       "model_id": "ba48e49929e04fc6ac662541e5706f4c",
       "version_major": 2,
       "version_minor": 0
      },
      "text/plain": [
       "HBox(children=(FloatProgress(value=0.0, max=2800.0), HTML(value='')))"
      ]
     },
     "metadata": {},
     "output_type": "display_data"
    },
    {
     "name": "stderr",
     "output_type": "stream",
     "text": [
      "IOPub message rate exceeded.\n",
      "The notebook server will temporarily stop sending output\n",
      "to the client in order to avoid crashing it.\n",
      "To change this limit, set the config variable\n",
      "`--NotebookApp.iopub_msg_rate_limit`.\n",
      "\n",
      "Current values:\n",
      "NotebookApp.iopub_msg_rate_limit=1000.0 (msgs/sec)\n",
      "NotebookApp.rate_limit_window=3.0 (secs)\n",
      "\n",
      "IOPub message rate exceeded.\n",
      "The notebook server will temporarily stop sending output\n",
      "to the client in order to avoid crashing it.\n",
      "To change this limit, set the config variable\n",
      "`--NotebookApp.iopub_msg_rate_limit`.\n",
      "\n",
      "Current values:\n",
      "NotebookApp.iopub_msg_rate_limit=1000.0 (msgs/sec)\n",
      "NotebookApp.rate_limit_window=3.0 (secs)\n",
      "\n",
      "  0%|          | 65/100000 [26:13:57<38118:11:17, 1373.15s/it]"
     ]
    },
    {
     "data": {
      "application/vnd.jupyter.widget-view+json": {
       "model_id": "210734ecb42144f1977596ac76110e42",
       "version_major": 2,
       "version_minor": 0
      },
      "text/plain": [
       "HBox(children=(FloatProgress(value=0.0, max=2800.0), HTML(value='')))"
      ]
     },
     "metadata": {},
     "output_type": "display_data"
    }
   ],
   "source": [
    "model.train()\n",
    "for epoch in tqdm(range(TOTAL_ITERATIONS), position=0, leave=True):\n",
    "    for batch_ind, batch in tqdm_notebook(enumerate(train_loader), total=len(train_loader), leave=False):\n",
    "        step = epoch * len(train_loader) + batch_ind\n",
    "        x, weight, dll = [i.to(device) for i in batch]\n",
    "        zs, prior_logprob, log_det = model(dll, context=x)\n",
    "        logprob = prior_logprob + log_det\n",
    "        loss = -torch.sum(logprob) # NLL\n",
    "        optimizer.zero_grad()\n",
    "        loss.backward()\n",
    "        optimizer.step()\n",
    "        experiment.log_metric('loss', loss.item(), step=step)\n",
    "        \n",
    "    if epoch % VALIDATION_INTERVAL == 0:\n",
    "        model.eval()\n",
    "        clear_output(False)\n",
    "        x = data_val[data_preprocessing.raw_feature_columns].values\n",
    "        dll = data_val[data_preprocessing.dll_columns].values\n",
    "        weights = data_val[data_preprocessing.weight_col].values.reshape(-1)\n",
    "        generated = torch.cat([model.sample(BATCH_SIZE, context=x_batch.to(device))[-1].cpu().detach()\n",
    "                               for x_batch, _, _ in tqdm_notebook(val_loader, desc='val loop')], dim=0)\n",
    "        plot_compare(dll, generated, weights, title='transformed')\n",
    "        experiment.log_figure('transformed', step=epoch)\n",
    "        plt.show()\n",
    "\n",
    "        inversed_real = scaler.inverse_transform(np.column_stack([dll, x]))[:, :dll.shape[1]]\n",
    "        inversed_generated = scaler.inverse_transform(np.column_stack([generated, x]))[:, :generated.shape[1]]\n",
    "\n",
    "        plot_compare(inversed_real, inversed_generated, weights, title='inverse transformed')\n",
    "        experiment.log_figure('inverse transformed', step=epoch)\n",
    "        plt.show()\n",
    "\n",
    "experiment.end()"
   ]
  },
  {
   "cell_type": "code",
   "execution_count": null,
   "metadata": {},
   "outputs": [],
   "source": [
    "1"
   ]
  },
  {
   "cell_type": "code",
   "execution_count": null,
   "metadata": {},
   "outputs": [],
   "source": [
    "torch.save({MODEL_NAME+'.state_dict': model.state_dict()}, LOGDIR)\n",
    "from sklearn.externals import joblib\n",
    "os.makedirs('./preprocessors', exist_ok=True)\n",
    "joblib.dump(scaler, os.path.join('preprocessors', MODEL_NAME) + \"_preprocessor.pkl\")\n"
   ]
  },
  {
   "cell_type": "markdown",
   "metadata": {},
   "source": [
    "### Evaluate with classifier"
   ]
  },
  {
   "cell_type": "code",
   "execution_count": null,
   "metadata": {},
   "outputs": [],
   "source": [
    "pred_dlls_ = []\n",
    "for batch in tqdm(val_loader, position=0, leave=True):\n",
    "    x, weight, dlls = [i.to(device) for i in batch]\n",
    "    pred_dlls_.append(model.sample(BATCH_SIZE)[-1].cpu().detach().numpy())"
   ]
  },
  {
   "cell_type": "code",
   "execution_count": null,
   "metadata": {},
   "outputs": [],
   "source": [
    "pred_dlls = np.concatenate(pred_dlls_, axis=0)\n",
    "pred_data = np.concatenate([pred_dlls, data_val.values[:, data_preprocessing.y_count:-1]], axis=1)\n",
    "\n",
    "pred_data_inversed = scaler.inverse_transform(pred_data)\n",
    "val_data_inversed = scaler.inverse_transform(data_val.iloc[:, :-1])\n"
   ]
  },
  {
   "cell_type": "code",
   "execution_count": null,
   "metadata": {},
   "outputs": [],
   "source": [
    "val_data_inversed_ = pd.DataFrame(val_data_inversed,\n",
    "                                  columns=data_val.columns[:-1])\n",
    "for ind, col in enumerate(data_preprocessing.dll_columns):\n",
    "    val_data_inversed_[\"predicted_\"+col] = pred_data_inversed[:, ind]\n",
    "val_data_inversed_['probe_sWeight'] = data_val['probe_sWeight']"
   ]
  },
  {
   "cell_type": "code",
   "execution_count": null,
   "metadata": {},
   "outputs": [],
   "source": [
    "class Wrapper:\n",
    "    def __init__(self, data):\n",
    "        self.test = data\n",
    "\n",
    "wrap = lambda x, particle: {particle: Wrapper(x)}"
   ]
  },
  {
   "cell_type": "code",
   "execution_count": null,
   "metadata": {},
   "outputs": [],
   "source": [
    "from rich_utils.model_testing import eval_model\n",
    "\n",
    "scores, bins = eval_model(PARTICLE_TYPE, wrap(val_data_inversed_, PARTICLE_TYPE))"
   ]
  },
  {
   "cell_type": "code",
   "execution_count": null,
   "metadata": {},
   "outputs": [],
   "source": [
    "print(\"Particle: {}, global test score: {} +- {}\".format(PARTICLE_TYPE,\n",
    "                                                         scores.mean(axis=0)[0][1],\n",
    "                                                         scores.std(axis=0)[0][1]))"
   ]
  },
  {
   "cell_type": "code",
   "execution_count": null,
   "metadata": {},
   "outputs": [],
   "source": []
  },
  {
   "cell_type": "code",
   "execution_count": null,
   "metadata": {},
   "outputs": [],
   "source": []
  }
 ],
 "metadata": {
  "kernelspec": {
   "display_name": "Python 3",
   "language": "python",
   "name": "python3"
  },
  "language_info": {
   "codemirror_mode": {
    "name": "ipython",
    "version": 3
   },
   "file_extension": ".py",
   "mimetype": "text/x-python",
   "name": "python",
   "nbconvert_exporter": "python",
   "pygments_lexer": "ipython3",
   "version": "3.6.9"
  },
  "varInspector": {
   "cols": {
    "lenName": 16,
    "lenType": 16,
    "lenVar": 40
   },
   "kernels_config": {
    "python": {
     "delete_cmd_postfix": "",
     "delete_cmd_prefix": "del ",
     "library": "var_list.py",
     "varRefreshCmd": "print(var_dic_list())"
    },
    "r": {
     "delete_cmd_postfix": ") ",
     "delete_cmd_prefix": "rm(",
     "library": "var_list.r",
     "varRefreshCmd": "cat(var_dic_list()) "
    }
   },
   "types_to_exclude": [
    "module",
    "function",
    "builtin_function_or_method",
    "instance",
    "_Feature"
   ],
   "window_display": false
  }
 },
 "nbformat": 4,
 "nbformat_minor": 2
}
