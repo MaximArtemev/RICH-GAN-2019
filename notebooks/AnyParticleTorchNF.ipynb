{
 "cells": [
  {
   "cell_type": "code",
   "execution_count": 1,
   "metadata": {},
   "outputs": [],
   "source": [
    "from comet_ml import Experiment\n",
    "\n",
    "import os\n",
    "\n",
    "CUDA_NUM = 1\n",
    "os.environ[\"CUDA_VISIBLE_DEVICES\"]=str(CUDA_NUM)\n",
    "\n"
   ]
  },
  {
   "cell_type": "code",
   "execution_count": 2,
   "metadata": {},
   "outputs": [],
   "source": [
    "import torch\n",
    "from torch import nn\n",
    "import torch.nn.functional as F\n",
    "\n",
    "import numpy as np\n",
    "import pandas as pd\n",
    "import matplotlib.pyplot as plt\n",
    "\n",
    "from tqdm.notebook import tqdm as tqdm_notebook\n",
    "from tqdm import tqdm as tqdm\n",
    "import itertools\n",
    "\n",
    "import seaborn as sns\n",
    "from IPython.display import clear_output\n",
    "\n",
    "\n",
    "from rich_utils import data_preprocessing\n",
    "\n",
    "\n",
    "\n",
    "%matplotlib inline\n"
   ]
  },
  {
   "cell_type": "code",
   "execution_count": 3,
   "metadata": {},
   "outputs": [],
   "source": [
    "PARTICLE_TYPE = 'kaon'\n",
    "MODEL_NAME = \"NF_{}_test_\".format(PARTICLE_TYPE)\n",
    "\n",
    "BATCH_SIZE = int(1e3)\n",
    "\n",
    "device = 'cuda' if torch.cuda.is_available() else 'cpu'\n",
    "\n",
    "NUM_LAYERS = 5"
   ]
  },
  {
   "cell_type": "code",
   "execution_count": 4,
   "metadata": {},
   "outputs": [],
   "source": [
    "# !sudo chmod -R 777 ./*\n"
   ]
  },
  {
   "cell_type": "code",
   "execution_count": 5,
   "metadata": {},
   "outputs": [],
   "source": [
    "import logging\n",
    "\n",
    "os.makedirs('log', exist_ok=True)\n",
    "logging.basicConfig(filename=f'log/{MODEL_NAME}.log',\n",
    "                    filemode='w',\n",
    "                    format='%(asctime)s, %(funcName)s - %(levelname)s - %(message)s',\n",
    "                    datefmt='%d-%b %H:%M:%S',\n",
    "                    level=logging.DEBUG)\n",
    "logger = logging.getLogger('main')\n",
    "logging.info(f\"Logging started. PARTICLE_TYPE:{PARTICLE_TYPE}, \" +\n",
    "             f\"MODEL_NAME:{MODEL_NAME}, BATCH_SIZE:{BATCH_SIZE}, NUM_LAYERS:{NUM_LAYERS} \" +\n",
    "             f\"device:{device}, CUDA_NUM:{CUDA_NUM}\")\n"
   ]
  },
  {
   "cell_type": "markdown",
   "metadata": {},
   "source": [
    "## Data"
   ]
  },
  {
   "cell_type": "code",
   "execution_count": 6,
   "metadata": {},
   "outputs": [],
   "source": [
    "data_train, data_val, scaler = data_preprocessing.get_merged_typed_dataset(PARTICLE_TYPE, dtype=np.float32)"
   ]
  },
  {
   "cell_type": "code",
   "execution_count": 7,
   "metadata": {},
   "outputs": [],
   "source": [
    "from rich_utils import data_processing\n",
    "\n",
    "train_loader = data_processing.getLoader(data_train, batch_size=BATCH_SIZE, shuffle=True, pin_memory=True)\n",
    "val_loader = data_processing.getLoader(data_val, batch_size=BATCH_SIZE, shuffle=True, pin_memory=True)"
   ]
  },
  {
   "cell_type": "code",
   "execution_count": 8,
   "metadata": {},
   "outputs": [],
   "source": [
    "from torch import distributions\n",
    "from torch.distributions import MultivariateNormal, Uniform, TransformedDistribution, SigmoidTransform\n",
    "from torch.nn.parameter import Parameter\n",
    "\n",
    "from nflib.flows import (\n",
    "    AffineConstantFlow, ActNorm, AffineHalfFlow, MAF, IAF, Invertible1x1Conv,\n",
    "    NormalizingFlow, NormalizingFlowModel, RandomPerm\n",
    ")\n",
    "from nflib.spline_flows import NSF_AR, NSF_CL\n",
    "from nflib.nets import ARMLP\n"
   ]
  },
  {
   "cell_type": "code",
   "execution_count": 9,
   "metadata": {},
   "outputs": [
    {
     "data": {
      "image/png": "[encoded data removed]",
      "text/plain": [
       "<Figure size 1080x1080 with 6 Axes>"
      ]
     },
     "metadata": {
      "needs_background": "light"
     },
     "output_type": "display_data"
    }
   ],
   "source": [
    "fig, axes = plt.subplots(3, 2, figsize=(15, 15))\n",
    "for INDEX, ax in zip((0, 1, 2, 3, 4), axes.flatten()):\n",
    "    _, bins, _ = ax.hist(data_train[data_preprocessing.dll_columns].iloc[:, INDEX],\n",
    "                         bins=100,\n",
    "                         label=\"train\",\n",
    "                         density=True,\n",
    "                         weights=data_train[data_preprocessing.weight_col].values.reshape(-1))\n",
    "    ax.hist(data_val[data_preprocessing.dll_columns].iloc[:, INDEX],\n",
    "                         bins=100,\n",
    "                         label=\"val\",\n",
    "                         density=True,\n",
    "                         alpha=0.5,\n",
    "                         weights=data_val[data_preprocessing.weight_col].values.reshape(-1))\n",
    "    ax.set_title(data_preprocessing.dll_columns[INDEX])\n",
    "\n",
    "ax.legend()\n",
    "plt.show()"
   ]
  },
  {
   "cell_type": "markdown",
   "metadata": {},
   "source": [
    "## Model"
   ]
  },
  {
   "cell_type": "code",
   "execution_count": 9,
   "metadata": {},
   "outputs": [
    {
     "name": "stdout",
     "output_type": "stream",
     "text": [
      "number of params:  26070\n"
     ]
    }
   ],
   "source": [
    "dim = data_preprocessing.y_count\n",
    "\n",
    "prior = MultivariateNormal(torch.zeros(dim).to(device), torch.eye(dim).to(device))\n",
    "\n",
    "flows = []\n",
    "for i in range(NUM_LAYERS):\n",
    "    flows.append(MAF(dim=dim, parity=True, hidden_dim=32,\n",
    "                     net_class=ARMLP,\n",
    "                     context=len(data_preprocessing.raw_feature_columns),\n",
    "                     num_masks=5, natural_ordering=False))\n",
    "    flows.append(Invertible1x1Conv(dim=dim))\n",
    "    flows.append(ActNorm(dim=dim))\n",
    "model = NormalizingFlowModel(prior, flows).to(device)\n",
    "logger.info(f'Model assembled, {model}')\n",
    "\n",
    "# optimizer\n",
    "LR = 1e-3\n",
    "optimizer = torch.optim.Adam(model.parameters(), lr=LR) # todo tune WD\n",
    "logger.info(f'LR-{LR}')\n",
    "logger.info(\"number of params: \", sum(p.numel() for p in model.parameters()))\n"
   ]
  },
  {
   "cell_type": "code",
   "execution_count": 11,
   "metadata": {},
   "outputs": [],
   "source": [
    "try:\n",
    "    batch = next(iter(train_loader))\n",
    "    x, weight, dll = [i.to(device) for i in batch]\n",
    "    logging.debug(f\"First forward batch passed, x.shape {x.shape}, weight.shape {weight.shape}, dll.shape {dll.shape}\")\n",
    "    zs, prior_logprob, log_det = model(dll, context=x)\n",
    "except Exception as e:\n",
    "    logging.error(f\"Exception {e} occurred on first forward batch\", exc_info=True)\n",
    "else:\n",
    "    logging.debug(f\"First forward batch results, zs len {len(zs)}, zs[-1].shape {zs[-1].shape}, \\\n",
    "        prior_logprob.shape {prior_logprob.shape}, log_det.shape {log_det.shape}\")\n"
   ]
  },
  {
   "cell_type": "code",
   "execution_count": null,
   "metadata": {},
   "outputs": [],
   "source": [
    "try:\n",
    "    batch = next(iter(train_loader))\n",
    "    x, weight, dll = [i.to(device) for i in batch]\n",
    "    logging.debug(f\"First sample batch passed, x.shape {x.shape}, weight.shape {weight.shape}, dll.shape {dll.shape}\")\n",
    "    sample = model.sample(BATCH_SIZE, context=x)\n",
    "except Exception as e:\n",
    "    logging.error(f\"Exception {e} occurred on first sample batch\", exc_info=True)\n",
    "else:\n",
    "    logging.debug(f\"First samplebatch results, zs len {len(sample)}, zs[-1].shape {sample[-1].shape}\")\n"
   ]
  },
  {
   "cell_type": "markdown",
   "metadata": {},
   "source": [
    "## Train"
   ]
  },
  {
   "cell_type": "code",
   "execution_count": 13,
   "metadata": {},
   "outputs": [],
   "source": [
    "MODEL_DIR = \"./saved_models/\"\n",
    "os.makedirs('./' + MODEL_DIR, exist_ok=True)\n",
    "\n",
    "TOTAL_ITERATIONS = int(1e5)\n",
    "VALIDATION_INTERVAL = 5"
   ]
  },
  {
   "cell_type": "code",
   "execution_count": 14,
   "metadata": {},
   "outputs": [
    {
     "name": "stderr",
     "output_type": "stream",
     "text": [
      "COMET INFO: old comet version (3.0.2) detected. current: 3.1.0 please update your comet lib with command: `pip install --no-cache-dir --upgrade comet_ml`\n",
      "COMET WARNING: Failing to collect the installed os packages\n",
      "COMET INFO: Experiment is live on comet.ml https://www.comet.ml/maximartemev/rich2019/0cc8b0497b364966aea062dc93d8f717\n",
      "\n"
     ]
    }
   ],
   "source": [
    "experiment = Experiment(api_key=\"HIZapbzNjFips0c32Co7gXkQZ\",\n",
    "                        project_name=\"rich2019\", workspace=\"maximartemev\", disabled=False)\n",
    "logger.info(f\"Experiment is live on comet.ml, {experiment.focus_link + experiment.id}\")"
   ]
  },
  {
   "cell_type": "code",
   "execution_count": 15,
   "metadata": {},
   "outputs": [],
   "source": [
    "def plot_compare(real, generated, weights, title):\n",
    "    fig, axes = plt.subplots(3, 2, figsize=(15, 15))\n",
    "    for INDEX, ax in zip((0, 1, 2, 3, 4), axes.flatten()):\n",
    "        _, bins, _ = ax.hist(real[:, INDEX],\n",
    "                             bins=100,\n",
    "                             label=\"data\",\n",
    "                             density=True,\n",
    "                             weights=weights)\n",
    "        ax.hist(generated[:, INDEX],\n",
    "                bins=bins,\n",
    "                label=\"generated\",\n",
    "                alpha=0.5,\n",
    "                density=True,\n",
    "                weights=weights)\n",
    "        ax.legend()\n",
    "        ax.set_title(data_preprocessing.dll_columns[INDEX])\n",
    "    plt.title(title)\n"
   ]
  },
  {
   "cell_type": "code",
   "execution_count": null,
   "metadata": {},
   "outputs": [],
   "source": [
    "def log_batch(x, weight, dll, text=''):\n",
    "    logger.debug(text + \\\n",
    "        f\"x stats: mean {x.mean()}, std {x.std()}, min {x.min()}, max {x.max()} \\n\" + \\\n",
    "        f\"dll stats: mean {dll.mean()}, std {dll.std()}, min {dll.min()}, max {dll.max()} \\n\" + \\\n",
    "        f\"weight stats: mean {weight.mean()}, std {weight.std()}, min {weight.min()}, max {weight.max()}\"\n",
    "                )\n",
    "\n",
    "def log_result(zs, prior_logprob, log_det, text=''):\n",
    "    zs_ = zs[-1]\n",
    "    logger.debug(text + \\\n",
    "                    f\"zs stats: len {len(zs)}, zs[-1].mean {zs_.mean()}, zs[-1].std {zs_.std()}, zs[-1].min {zs_.min()}, zs[-1].max {zs_.max()} \\n\" + \\\n",
    "                    f\"prior_logprob stats: mean {prior_logprob.mean()}, std {prior_logprob.std()}, min {prior_logprob.min()}, max {prior_logprob.max()} \\n\" + \\\n",
    "                    f\"log_det stats: mean {log_det.mean()}, std {log_det.std()}, min {log_det.min()}, max {log_det.max()}\"\n",
    "                            )\n",
    "    "
   ]
  },
  {
   "cell_type": "code",
   "execution_count": 19,
   "metadata": {},
   "outputs": [
    {
     "data": {
      "application/vnd.jupyter.widget-view+json": {
       "model_id": "cea87e045650433b84abfabb878938b1",
       "version_major": 2,
       "version_minor": 0
      },
      "text/plain": [
       "HBox(children=(FloatProgress(value=0.0, description='val loop', max=1200.0, style=ProgressStyle(description_wi…"
      ]
     },
     "metadata": {},
     "output_type": "display_data"
    },
    {
     "name": "stdout",
     "output_type": "stream",
     "text": [
      "\n"
     ]
    },
    {
     "data": {
      "image/png": "[encoded data removed]",
      "text/plain": [
       "<Figure size 1080x1080 with 6 Axes>"
      ]
     },
     "metadata": {
      "needs_background": "light"
     },
     "output_type": "display_data"
    },
    {
     "ename": "ValueError",
     "evalue": "Input contains infinity or a value too large for dtype('float32').",
     "output_type": "error",
     "traceback": [
      "\u001b[0;31m---------------------------------------------------------------------------\u001b[0m",
      "\u001b[0;31mValueError\u001b[0m                                Traceback (most recent call last)",
      "\u001b[0;32m<ipython-input-19-0d15bc0b4854>\u001b[0m in \u001b[0;36m<module>\u001b[0;34m\u001b[0m\n\u001b[1;32m     25\u001b[0m \u001b[0;34m\u001b[0m\u001b[0m\n\u001b[1;32m     26\u001b[0m         \u001b[0minversed_real\u001b[0m \u001b[0;34m=\u001b[0m \u001b[0mscaler\u001b[0m\u001b[0;34m.\u001b[0m\u001b[0minverse_transform\u001b[0m\u001b[0;34m(\u001b[0m\u001b[0mnp\u001b[0m\u001b[0;34m.\u001b[0m\u001b[0mcolumn_stack\u001b[0m\u001b[0;34m(\u001b[0m\u001b[0;34m[\u001b[0m\u001b[0mdll\u001b[0m\u001b[0;34m,\u001b[0m \u001b[0mx\u001b[0m\u001b[0;34m]\u001b[0m\u001b[0;34m)\u001b[0m\u001b[0;34m)\u001b[0m\u001b[0;34m[\u001b[0m\u001b[0;34m:\u001b[0m\u001b[0;34m,\u001b[0m \u001b[0;34m:\u001b[0m\u001b[0mdll\u001b[0m\u001b[0;34m.\u001b[0m\u001b[0mshape\u001b[0m\u001b[0;34m[\u001b[0m\u001b[0;36m1\u001b[0m\u001b[0;34m]\u001b[0m\u001b[0;34m]\u001b[0m\u001b[0;34m\u001b[0m\u001b[0;34m\u001b[0m\u001b[0m\n\u001b[0;32m---> 27\u001b[0;31m         \u001b[0minversed_generated\u001b[0m \u001b[0;34m=\u001b[0m \u001b[0mscaler\u001b[0m\u001b[0;34m.\u001b[0m\u001b[0minverse_transform\u001b[0m\u001b[0;34m(\u001b[0m\u001b[0mnp\u001b[0m\u001b[0;34m.\u001b[0m\u001b[0mcolumn_stack\u001b[0m\u001b[0;34m(\u001b[0m\u001b[0;34m[\u001b[0m\u001b[0mgenerated\u001b[0m\u001b[0;34m,\u001b[0m \u001b[0mx\u001b[0m\u001b[0;34m]\u001b[0m\u001b[0;34m)\u001b[0m\u001b[0;34m)\u001b[0m\u001b[0;34m[\u001b[0m\u001b[0;34m:\u001b[0m\u001b[0;34m,\u001b[0m \u001b[0;34m:\u001b[0m\u001b[0mgenerated\u001b[0m\u001b[0;34m.\u001b[0m\u001b[0mshape\u001b[0m\u001b[0;34m[\u001b[0m\u001b[0;36m1\u001b[0m\u001b[0;34m]\u001b[0m\u001b[0;34m]\u001b[0m\u001b[0;34m\u001b[0m\u001b[0;34m\u001b[0m\u001b[0m\n\u001b[0m\u001b[1;32m     28\u001b[0m \u001b[0;34m\u001b[0m\u001b[0m\n\u001b[1;32m     29\u001b[0m         \u001b[0mplot_compare\u001b[0m\u001b[0;34m(\u001b[0m\u001b[0minversed_real\u001b[0m\u001b[0;34m,\u001b[0m \u001b[0minversed_generated\u001b[0m\u001b[0;34m,\u001b[0m \u001b[0mweights\u001b[0m\u001b[0;34m,\u001b[0m \u001b[0mtitle\u001b[0m\u001b[0;34m=\u001b[0m\u001b[0;34m'inverse transformed'\u001b[0m\u001b[0;34m)\u001b[0m\u001b[0;34m\u001b[0m\u001b[0;34m\u001b[0m\u001b[0m\n",
      "\u001b[0;32m~/miniconda/envs/py36/lib/python3.6/site-packages/sklearn/preprocessing/_data.py\u001b[0m in \u001b[0;36minverse_transform\u001b[0;34m(self, X)\u001b[0m\n\u001b[1;32m   2540\u001b[0m             \u001b[0mThe\u001b[0m \u001b[0mprojected\u001b[0m \u001b[0mdata\u001b[0m\u001b[0;34m.\u001b[0m\u001b[0;34m\u001b[0m\u001b[0;34m\u001b[0m\u001b[0m\n\u001b[1;32m   2541\u001b[0m         \"\"\"\n\u001b[0;32m-> 2542\u001b[0;31m         \u001b[0mX\u001b[0m \u001b[0;34m=\u001b[0m \u001b[0mself\u001b[0m\u001b[0;34m.\u001b[0m\u001b[0m_check_inputs\u001b[0m\u001b[0;34m(\u001b[0m\u001b[0mX\u001b[0m\u001b[0;34m,\u001b[0m \u001b[0maccept_sparse_negative\u001b[0m\u001b[0;34m=\u001b[0m\u001b[0;32mTrue\u001b[0m\u001b[0;34m,\u001b[0m \u001b[0mcopy\u001b[0m\u001b[0;34m=\u001b[0m\u001b[0mself\u001b[0m\u001b[0;34m.\u001b[0m\u001b[0mcopy\u001b[0m\u001b[0;34m)\u001b[0m\u001b[0;34m\u001b[0m\u001b[0;34m\u001b[0m\u001b[0m\n\u001b[0m\u001b[1;32m   2543\u001b[0m         \u001b[0mself\u001b[0m\u001b[0;34m.\u001b[0m\u001b[0m_check_is_fitted\u001b[0m\u001b[0;34m(\u001b[0m\u001b[0mX\u001b[0m\u001b[0;34m)\u001b[0m\u001b[0;34m\u001b[0m\u001b[0;34m\u001b[0m\u001b[0m\n\u001b[1;32m   2544\u001b[0m \u001b[0;34m\u001b[0m\u001b[0m\n",
      "\u001b[0;32m~/miniconda/envs/py36/lib/python3.6/site-packages/sklearn/preprocessing/_data.py\u001b[0m in \u001b[0;36m_check_inputs\u001b[0;34m(self, X, accept_sparse_negative, copy)\u001b[0m\n\u001b[1;32m   2443\u001b[0m         X = check_array(X, accept_sparse='csc', copy=copy,\n\u001b[1;32m   2444\u001b[0m                         \u001b[0mdtype\u001b[0m\u001b[0;34m=\u001b[0m\u001b[0mFLOAT_DTYPES\u001b[0m\u001b[0;34m,\u001b[0m\u001b[0;34m\u001b[0m\u001b[0;34m\u001b[0m\u001b[0m\n\u001b[0;32m-> 2445\u001b[0;31m                         force_all_finite='allow-nan')\n\u001b[0m\u001b[1;32m   2446\u001b[0m         \u001b[0;31m# we only accept positive sparse matrix when ignore_implicit_zeros is\u001b[0m\u001b[0;34m\u001b[0m\u001b[0;34m\u001b[0m\u001b[0;34m\u001b[0m\u001b[0m\n\u001b[1;32m   2447\u001b[0m         \u001b[0;31m# false and that we call fit or transform.\u001b[0m\u001b[0;34m\u001b[0m\u001b[0;34m\u001b[0m\u001b[0;34m\u001b[0m\u001b[0m\n",
      "\u001b[0;32m~/miniconda/envs/py36/lib/python3.6/site-packages/sklearn/utils/validation.py\u001b[0m in \u001b[0;36mcheck_array\u001b[0;34m(array, accept_sparse, accept_large_sparse, dtype, order, copy, force_all_finite, ensure_2d, allow_nd, ensure_min_samples, ensure_min_features, warn_on_dtype, estimator)\u001b[0m\n\u001b[1;32m    576\u001b[0m         \u001b[0;32mif\u001b[0m \u001b[0mforce_all_finite\u001b[0m\u001b[0;34m:\u001b[0m\u001b[0;34m\u001b[0m\u001b[0;34m\u001b[0m\u001b[0m\n\u001b[1;32m    577\u001b[0m             _assert_all_finite(array,\n\u001b[0;32m--> 578\u001b[0;31m                                allow_nan=force_all_finite == 'allow-nan')\n\u001b[0m\u001b[1;32m    579\u001b[0m \u001b[0;34m\u001b[0m\u001b[0m\n\u001b[1;32m    580\u001b[0m     \u001b[0;32mif\u001b[0m \u001b[0mensure_min_samples\u001b[0m \u001b[0;34m>\u001b[0m \u001b[0;36m0\u001b[0m\u001b[0;34m:\u001b[0m\u001b[0;34m\u001b[0m\u001b[0;34m\u001b[0m\u001b[0m\n",
      "\u001b[0;32m~/miniconda/envs/py36/lib/python3.6/site-packages/sklearn/utils/validation.py\u001b[0m in \u001b[0;36m_assert_all_finite\u001b[0;34m(X, allow_nan, msg_dtype)\u001b[0m\n\u001b[1;32m     58\u001b[0m                     \u001b[0mmsg_err\u001b[0m\u001b[0;34m.\u001b[0m\u001b[0mformat\u001b[0m\u001b[0;34m\u001b[0m\u001b[0;34m\u001b[0m\u001b[0m\n\u001b[1;32m     59\u001b[0m                     (type_err,\n\u001b[0;32m---> 60\u001b[0;31m                      msg_dtype if msg_dtype is not None else X.dtype)\n\u001b[0m\u001b[1;32m     61\u001b[0m             )\n\u001b[1;32m     62\u001b[0m     \u001b[0;31m# for object dtype data, we only check for NaNs (GH-13254)\u001b[0m\u001b[0;34m\u001b[0m\u001b[0;34m\u001b[0m\u001b[0;34m\u001b[0m\u001b[0m\n",
      "\u001b[0;31mValueError\u001b[0m: Input contains infinity or a value too large for dtype('float32')."
     ]
    }
   ],
   "source": [
    "model.train()\n",
    "for epoch in tqdm(range(TOTAL_ITERATIONS), position=0, leave=True):\n",
    "    logger.info(f\"Epoch {epoch}/{TOTAL_ITERATIONS}, start\")\n",
    "    for batch_ind, batch in tqdm_notebook(enumerate(train_loader), total=len(train_loader), leave=False):\n",
    "        step = epoch * len(train_loader) + batch_ind\n",
    "        log_text = f\"Epoch {epoch}/{TOTAL_ITERATIONS}, batch {batch_ind}/{len(train_loader)} \\n\"\n",
    "        x, weight, dll = [i.to(device) for i in batch]\n",
    "        zs, prior_logprob, log_det = model(dll, context=x)\n",
    "\n",
    "        if batch_ind % 100 == 0:\n",
    "            log_batch(x, weight, dll, log_text)\n",
    "            zs_ = zs[-1]\n",
    "            log_result(zs, prior_logprob, log_det, log_text)\n",
    "        \n",
    "        logprob = prior_logprob + log_det\n",
    "        loss = -torch.sum(logprob) # NLL\n",
    "        optimizer.zero_grad()\n",
    "        loss.backward()\n",
    "        optimizer.step()\n",
    "        experiment.log_metric('loss', loss.item(), step=step)\n",
    "        \n",
    "    if epoch % VALIDATION_INTERVAL == 0:\n",
    "        model.eval()\n",
    "        clear_output(False)\n",
    "        x = data_val[data_preprocessing.raw_feature_columns].values\n",
    "        dll = data_val[data_preprocessing.dll_columns].values\n",
    "        weights = data_val[data_preprocessing.weight_col].values.reshape(-1)\n",
    "        log_text = f\"Epoch {epoch}/{TOTAL_ITERATIONS}, Eval mode \\n\"\n",
    "        log_batch(x, weight, dll, log_text)\n",
    "        generated = torch.cat([model.sample(BATCH_SIZE, context=x_batch.to(device))[-1].cpu().detach()\n",
    "                               for x_batch, _, _ in tqdm_notebook(val_loader, desc='val loop')], dim=0)\n",
    "        logger.debug(log_text + \\ \n",
    "                     f\"generated stats: mean {generated.mean()}, std {generated.std()}, min {generated.min()}, max {generated.max()}\")\n",
    "\n",
    "        plot_compare(dll, generated, weights, title='transformed')\n",
    "        experiment.log_figure('transformed', step=epoch)\n",
    "        plt.show()\n",
    "\n",
    "        inversed_real = scaler.inverse_transform(np.column_stack([dll, x]))[:, :dll.shape[1]]\n",
    "        inversed_generated = scaler.inverse_transform(np.column_stack([generated, x]))[:, :generated.shape[1]]\n",
    "\n",
    "        plot_compare(inversed_real, inversed_generated, weights, title='inverse transformed')\n",
    "        experiment.log_figure('inverse transformed', step=epoch)\n",
    "        plt.show()\n",
    "\n",
    "experiment.end()"
   ]
  },
  {
   "cell_type": "code",
   "execution_count": null,
   "metadata": {},
   "outputs": [],
   "source": [
    "logger.info(f\"Saving to {os.path.join(MODEL_DIR, MODEL_NAME + '.state_dict')}\")\n",
    "torch.save(model.state_dict(), os.path.join(MODEL_DIR, MODEL_NAME + '.state_dict'))\n",
    "\n",
    "from sklearn.externals import joblib\n",
    "os.makedirs('./preprocessors', exist_ok=True)\n",
    "logger.info(f\"Saving to {'preprocessors/' + MODEL_NAME + '.state_dict'}\")\n",
    "joblib.dump(scaler, os.path.join('preprocessors', MODEL_NAME) + \"_preprocessor.pkl\")\n"
   ]
  },
  {
   "cell_type": "markdown",
   "metadata": {},
   "source": [
    "### Evaluate with classifier"
   ]
  },
  {
   "cell_type": "code",
   "execution_count": null,
   "metadata": {},
   "outputs": [],
   "source": [
    "pred_dlls_ = []\n",
    "for batch in tqdm(val_loader, position=0, leave=True):\n",
    "    x, weight, dlls = [i.to(device) for i in batch]\n",
    "    pred_dlls_.append(model.sample(BATCH_SIZE)[-1].cpu().detach().numpy())"
   ]
  },
  {
   "cell_type": "code",
   "execution_count": null,
   "metadata": {},
   "outputs": [],
   "source": [
    "pred_dlls = np.concatenate(pred_dlls_, axis=0)\n",
    "pred_data = np.concatenate([pred_dlls, data_val.values[:, data_preprocessing.y_count:-1]], axis=1)\n",
    "\n",
    "pred_data_inversed = scaler.inverse_transform(pred_data)\n",
    "val_data_inversed = scaler.inverse_transform(data_val.iloc[:, :-1])\n"
   ]
  },
  {
   "cell_type": "code",
   "execution_count": null,
   "metadata": {},
   "outputs": [],
   "source": [
    "val_data_inversed_ = pd.DataFrame(val_data_inversed,\n",
    "                                  columns=data_val.columns[:-1])\n",
    "for ind, col in enumerate(data_preprocessing.dll_columns):\n",
    "    val_data_inversed_[\"predicted_\"+col] = pred_data_inversed[:, ind]\n",
    "val_data_inversed_['probe_sWeight'] = data_val['probe_sWeight']"
   ]
  },
  {
   "cell_type": "code",
   "execution_count": null,
   "metadata": {},
   "outputs": [],
   "source": [
    "class Wrapper:\n",
    "    def __init__(self, data):\n",
    "        self.test = data\n",
    "\n",
    "wrap = lambda x, particle: {particle: Wrapper(x)}"
   ]
  },
  {
   "cell_type": "code",
   "execution_count": null,
   "metadata": {},
   "outputs": [],
   "source": [
    "from rich_utils.model_testing import eval_model\n",
    "\n",
    "scores, bins = eval_model(PARTICLE_TYPE, wrap(val_data_inversed_, PARTICLE_TYPE))"
   ]
  },
  {
   "cell_type": "code",
   "execution_count": null,
   "metadata": {},
   "outputs": [],
   "source": [
    "print(\"Particle: {}, global test score: {} +- {}\".format(PARTICLE_TYPE,\n",
    "                                                         scores.mean(axis=0)[0][1],\n",
    "                                                         scores.std(axis=0)[0][1]))\n",
    "\n",
    "logger.info(\"Particle: {}, global test score: {} +- {}\".format(PARTICLE_TYPE,\n",
    "                                                         scores.mean(axis=0)[0][1],\n",
    "                                                         scores.std(axis=0)[0][1]))\n"
   ]
  },
  {
   "cell_type": "code",
   "execution_count": null,
   "metadata": {},
   "outputs": [],
   "source": []
  },
  {
   "cell_type": "code",
   "execution_count": null,
   "metadata": {},
   "outputs": [],
   "source": []
  }
 ],
 "metadata": {
  "kernelspec": {
   "display_name": "Python 3",
   "language": "python",
   "name": "python3"
  },
  "language_info": {
   "codemirror_mode": {
    "name": "ipython",
    "version": 3
   },
   "file_extension": ".py",
   "mimetype": "text/x-python",
   "name": "python",
   "nbconvert_exporter": "python",
   "pygments_lexer": "ipython3",
   "version": "3.6.9"
  },
  "varInspector": {
   "cols": {
    "lenName": 16,
    "lenType": 16,
    "lenVar": 40
   },
   "kernels_config": {
    "python": {
     "delete_cmd_postfix": "",
     "delete_cmd_prefix": "del ",
     "library": "var_list.py",
     "varRefreshCmd": "print(var_dic_list())"
    },
    "r": {
     "delete_cmd_postfix": ") ",
     "delete_cmd_prefix": "rm(",
     "library": "var_list.r",
     "varRefreshCmd": "cat(var_dic_list()) "
    }
   },
   "types_to_exclude": [
    "module",
    "function",
    "builtin_function_or_method",
    "instance",
    "_Feature"
   ],
   "window_display": false
  }
 },
 "nbformat": 4,
 "nbformat_minor": 2
}
