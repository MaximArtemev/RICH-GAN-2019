{
 "cells": [
  {
   "cell_type": "code",
   "execution_count": 1,
   "metadata": {},
   "outputs": [],
   "source": [
    "from comet_ml import Experiment\n",
    "\n",
    "import os\n",
    "os.environ[\"CUDA_VISIBLE_DEVICES\"]=\"3\""
   ]
  },
  {
   "cell_type": "code",
   "execution_count": 22,
   "metadata": {},
   "outputs": [],
   "source": [
    "PARTICLE_TYPE = 'pion'\n",
    "MODEL_NAME = \"Pytorch_Cramer_{}_1layer\".format(PARTICLE_TYPE)"
   ]
  },
  {
   "cell_type": "code",
   "execution_count": 3,
   "metadata": {},
   "outputs": [],
   "source": [
    "from sklearn.model_selection import train_test_split\n",
    "import torch\n",
    "from torch import nn\n",
    "import torch.nn.functional as F\n",
    "import pandas as pd\n",
    "import seaborn as sns\n",
    "import numpy as np\n",
    "import matplotlib.pyplot as plt\n",
    "import os\n",
    "from IPython.display import clear_output\n",
    "import scipy\n",
    "from tqdm import tqdm_notebook, tqdm\n",
    "from torch.autograd import Variable, grad\n",
    "%matplotlib inline"
   ]
  },
  {
   "cell_type": "code",
   "execution_count": 4,
   "metadata": {},
   "outputs": [],
   "source": [
    "import rich_utils.torch_utils_rich_mrartemev as utils_rich"
   ]
  },
  {
   "cell_type": "markdown",
   "metadata": {},
   "source": [
    "## Data"
   ]
  },
  {
   "cell_type": "code",
   "execution_count": 5,
   "metadata": {},
   "outputs": [
    {
     "name": "stdout",
     "output_type": "stream",
     "text": [
      "Reading and concatenating datasets:\n",
      "\t../data/data_calibsample/pion2_-_up_2016_.csv\n",
      "\t../data/data_calibsample/pion2_+_down_2016_.csv\n",
      "\t../data/data_calibsample/pion_+_up_2016_.csv\n",
      "\t../data/data_calibsample/pion2_-_down_2016_.csv\n",
      "\t../data/data_calibsample/pion_-_up_2016_.csv\n",
      "\t../data/data_calibsample/pion2_+_up_2016_.csv\n",
      "\t../data/data_calibsample/pion_-_down_2016_.csv\n",
      "\t../data/data_calibsample/pion_+_down_2016_.csv\n",
      "splitting to train/val/test\n",
      "fitting the scaler\n",
      "scaler train sample size: 2000000\n",
      "scaler n_quantiles: 100000, time = 1.7878408432006836\n",
      "scaling train set\n",
      "scaling test set\n",
      "converting dtype to <class 'numpy.float32'>\n"
     ]
    }
   ],
   "source": [
    "data_train, data_val, scaler = utils_rich.get_merged_typed_dataset(PARTICLE_TYPE, dtype=np.float32, log=True)"
   ]
  },
  {
   "cell_type": "code",
   "execution_count": 6,
   "metadata": {},
   "outputs": [
    {
     "data": {
      "text/html": [
       "<div>\n",
       "<style scoped>\n",
       "    .dataframe tbody tr th:only-of-type {\n",
       "        vertical-align: middle;\n",
       "    }\n",
       "\n",
       "    .dataframe tbody tr th {\n",
       "        vertical-align: top;\n",
       "    }\n",
       "\n",
       "    .dataframe thead th {\n",
       "        text-align: right;\n",
       "    }\n",
       "</style>\n",
       "<table border=\"1\" class=\"dataframe\">\n",
       "  <thead>\n",
       "    <tr style=\"text-align: right;\">\n",
       "      <th></th>\n",
       "      <th>RichDLLe</th>\n",
       "      <th>RichDLLk</th>\n",
       "      <th>RichDLLmu</th>\n",
       "      <th>RichDLLp</th>\n",
       "      <th>RichDLLbt</th>\n",
       "      <th>Brunel_P</th>\n",
       "      <th>Brunel_ETA</th>\n",
       "      <th>nTracks_Brunel</th>\n",
       "      <th>probe_sWeight</th>\n",
       "    </tr>\n",
       "  </thead>\n",
       "  <tbody>\n",
       "    <tr>\n",
       "      <th>0</th>\n",
       "      <td>-1.734361</td>\n",
       "      <td>-0.583589</td>\n",
       "      <td>-1.622547</td>\n",
       "      <td>-0.480767</td>\n",
       "      <td>-0.520909</td>\n",
       "      <td>-0.570534</td>\n",
       "      <td>0.658363</td>\n",
       "      <td>-1.618518</td>\n",
       "      <td>-1.016140</td>\n",
       "    </tr>\n",
       "    <tr>\n",
       "      <th>1</th>\n",
       "      <td>-0.004741</td>\n",
       "      <td>-0.049082</td>\n",
       "      <td>1.484653</td>\n",
       "      <td>0.321313</td>\n",
       "      <td>0.305160</td>\n",
       "      <td>-0.116223</td>\n",
       "      <td>-0.232013</td>\n",
       "      <td>-0.825225</td>\n",
       "      <td>0.252840</td>\n",
       "    </tr>\n",
       "    <tr>\n",
       "      <th>2</th>\n",
       "      <td>0.100382</td>\n",
       "      <td>-0.045631</td>\n",
       "      <td>-0.184058</td>\n",
       "      <td>0.251841</td>\n",
       "      <td>0.473526</td>\n",
       "      <td>0.508042</td>\n",
       "      <td>0.400366</td>\n",
       "      <td>0.582313</td>\n",
       "      <td>-0.256564</td>\n",
       "    </tr>\n",
       "    <tr>\n",
       "      <th>3</th>\n",
       "      <td>0.702778</td>\n",
       "      <td>-0.044897</td>\n",
       "      <td>1.537313</td>\n",
       "      <td>0.036764</td>\n",
       "      <td>0.106426</td>\n",
       "      <td>0.300341</td>\n",
       "      <td>-0.303910</td>\n",
       "      <td>-0.579316</td>\n",
       "      <td>1.079980</td>\n",
       "    </tr>\n",
       "    <tr>\n",
       "      <th>4</th>\n",
       "      <td>-0.441677</td>\n",
       "      <td>-2.706860</td>\n",
       "      <td>-0.369277</td>\n",
       "      <td>-1.958695</td>\n",
       "      <td>-2.240399</td>\n",
       "      <td>0.333592</td>\n",
       "      <td>-0.836932</td>\n",
       "      <td>-1.279298</td>\n",
       "      <td>1.163280</td>\n",
       "    </tr>\n",
       "  </tbody>\n",
       "</table>\n",
       "</div>"
      ],
      "text/plain": [
       "   RichDLLe  RichDLLk  RichDLLmu  RichDLLp  RichDLLbt  Brunel_P  Brunel_ETA  \\\n",
       "0 -1.734361 -0.583589  -1.622547 -0.480767  -0.520909 -0.570534    0.658363   \n",
       "1 -0.004741 -0.049082   1.484653  0.321313   0.305160 -0.116223   -0.232013   \n",
       "2  0.100382 -0.045631  -0.184058  0.251841   0.473526  0.508042    0.400366   \n",
       "3  0.702778 -0.044897   1.537313  0.036764   0.106426  0.300341   -0.303910   \n",
       "4 -0.441677 -2.706860  -0.369277 -1.958695  -2.240399  0.333592   -0.836932   \n",
       "\n",
       "   nTracks_Brunel  probe_sWeight  \n",
       "0       -1.618518      -1.016140  \n",
       "1       -0.825225       0.252840  \n",
       "2        0.582313      -0.256564  \n",
       "3       -0.579316       1.079980  \n",
       "4       -1.279298       1.163280  "
      ]
     },
     "execution_count": 6,
     "metadata": {},
     "output_type": "execute_result"
    }
   ],
   "source": [
    "data_train.head()"
   ]
  },
  {
   "cell_type": "code",
   "execution_count": 7,
   "metadata": {},
   "outputs": [],
   "source": [
    "BATCH_SIZE = int(1e3)\n",
    "LATENT_DIMENSIONS = 64\n",
    "\n",
    "N_VAL = int(3e5)\n",
    "device = 'cuda' if torch.cuda.is_available() else 'cpu'\n"
   ]
  },
  {
   "cell_type": "code",
   "execution_count": 33,
   "metadata": {},
   "outputs": [],
   "source": [
    "from itertools import repeat\n",
    "\n",
    "class ParticleSet(torch.utils.data.Dataset):\n",
    "    def __init__(self, data):\n",
    "        self.data = data\n",
    "    \n",
    "    def __len__(self):\n",
    "        return self.data.shape[0]\n",
    "    \n",
    "    def __getitem__(self, ind):\n",
    "        return (self.data[ind, utils_rich.y_count:-1], # X\n",
    "                self.data[ind, -1], # Weight\n",
    "                self.data[ind, :utils_rich.y_count], # DLL\n",
    "               )\n",
    "    \n",
    "def repeater(data_loader):\n",
    "    for loader in repeat(data_loader):\n",
    "        for data in loader:\n",
    "            yield data\n",
    "    \n",
    "# https://github.com/pytorch/pytorch/issues/5398\n",
    "# https://discuss.pytorch.org/t/implementing-an-infinite-loop-dataset-dataloader-combo/35567\n",
    "train_loader = repeater(torch.utils.data.DataLoader(ParticleSet(data_train.values),\n",
    "                                                    batch_size=BATCH_SIZE,\n",
    "                                                    shuffle=True,\n",
    "                                                    pin_memory=True))\n",
    "\n",
    "val_loader = repeater(torch.utils.data.DataLoader(ParticleSet(data_val.values),\n",
    "                                                  batch_size=N_VAL,\n",
    "                                                  shuffle=False,\n",
    "                                                  pin_memory=True))"
   ]
  },
  {
   "cell_type": "markdown",
   "metadata": {},
   "source": [
    "## Model"
   ]
  },
  {
   "cell_type": "code",
   "execution_count": 9,
   "metadata": {},
   "outputs": [],
   "source": [
    "CRAMER_DIM = 256\n",
    "NUM_LAYERS = 5\n",
    "\n",
    "def get_noise(batch_size, mean=0, std=1):\n",
    "    return torch.zeros(batch_size, LATENT_DIMENSIONS).normal_(mean, std).to(device)\n",
    "\n",
    "class Generator(nn.Module):\n",
    "    def __init__(self, hidden_size=128, depth=5):\n",
    "        super(Generator, self).__init__()\n",
    "        self.layers = nn.Sequential(\n",
    "            nn.Linear(LATENT_DIMENSIONS + data_train.shape[1] - 1 - utils_rich.y_count, 128),\n",
    "            nn.LeakyReLU(0.05),\n",
    "            *[nn.Sequential(nn.Linear(128, 128), nn.LeakyReLU(0.05)) for _ in range(depth)],\n",
    "            nn.Linear(128, utils_rich.y_count),\n",
    "        )\n",
    "\n",
    "    def forward(self, x, noise=None):\n",
    "        return self.layers(torch.cat([x, get_noise(x.shape[0])], dim=1))\n",
    "\n",
    "    \n",
    "class Critic(nn.Module):\n",
    "    def __init__(self, hidden_size=128, depth=5):\n",
    "        super(Critic, self).__init__()\n",
    "        self.layers = nn.Sequential(\n",
    "            nn.Linear(data_train.shape[1] - 1, 128),\n",
    "            nn.LeakyReLU(0.05),\n",
    "            *[nn.Sequential(nn.Linear(128, 128), nn.LeakyReLU(0.05)) for _ in range(depth)],\n",
    "            nn.Linear(128, CRAMER_DIM),\n",
    "        )\n",
    "\n",
    "    def forward(self, x):\n",
    "        return self.layers(x)\n",
    "\n",
    "def init_weights(m):\n",
    "    if type(m) == nn.Linear:\n",
    "        torch.nn.init.xavier_uniform_(m.weight)\n",
    "        m.bias.data.fill_(0.01)"
   ]
  },
  {
   "cell_type": "code",
   "execution_count": 10,
   "metadata": {},
   "outputs": [],
   "source": [
    "netG = Generator(depth=NUM_LAYERS).to(device)\n",
    "netG.apply(init_weights)\n",
    "\n",
    "netC = Critic(depth=NUM_LAYERS).to(device)\n",
    "netC.apply(init_weights)\n",
    "\n",
    "pass"
   ]
  },
  {
   "cell_type": "code",
   "execution_count": 11,
   "metadata": {},
   "outputs": [],
   "source": [
    "optC = torch.optim.AdamW(netC.parameters())\n",
    "lr_C = torch.optim.lr_scheduler.ExponentialLR(optimizer=optC, gamma=0.995)\n",
    "optG = torch.optim.AdamW(netG.parameters())\n",
    "lr_G = torch.optim.lr_scheduler.ExponentialLR(optimizer=optG, gamma=0.995)"
   ]
  },
  {
   "cell_type": "markdown",
   "metadata": {},
   "source": [
    "## Train"
   ]
  },
  {
   "cell_type": "code",
   "execution_count": 12,
   "metadata": {},
   "outputs": [],
   "source": [
    "LOGDIR = \"./log\"\n",
    "\n",
    "CRITIC_ITERATIONS_CONST = 15\n",
    "TOTAL_ITERATIONS = int(5e4)\n",
    "VALIDATION_INTERVAL = 1000\n"
   ]
  },
  {
   "cell_type": "code",
   "execution_count": 13,
   "metadata": {},
   "outputs": [
    {
     "name": "stderr",
     "output_type": "stream",
     "text": [
      "/home/user/miniconda/envs/py36/lib/python3.6/site-packages/ipykernel_launcher.py:4: TqdmDeprecationWarning: This function will be removed in tqdm==5.0.0\n",
      "Please use `tqdm.notebook.tqdm` instead of `tqdm.tqdm_notebook`\n",
      "  after removing the cwd from sys.path.\n"
     ]
    },
    {
     "data": {
      "application/vnd.jupyter.widget-view+json": {
       "model_id": "86dfb9f3496a4c3b828e22c170f2d4c7",
       "version_major": 2,
       "version_minor": 0
      },
      "text/plain": [
       "HBox(children=(FloatProgress(value=0.0, max=50000.0), HTML(value='')))"
      ]
     },
     "metadata": {},
     "output_type": "display_data"
    },
    {
     "name": "stdout",
     "output_type": "stream",
     "text": [
      "\n"
     ]
    },
    {
     "data": {
      "text/plain": [
       "[<matplotlib.lines.Line2D at 0x7f944f919320>]"
      ]
     },
     "execution_count": 13,
     "metadata": {},
     "output_type": "execute_result"
    },
    {
     "data": {
      "image/png": "[encoded data removed]",
      "text/plain": [
       "<Figure size 432x288 with 1 Axes>"
      ]
     },
     "metadata": {
      "needs_background": "light"
     },
     "output_type": "display_data"
    }
   ],
   "source": [
    "lambda_pt = lambda i: 20 / np.pi * 2 * torch.atan(torch.tensor(i, dtype=torch.float32, device=device)/1e4)\n",
    "\n",
    "pt = []\n",
    "for i in tqdm_notebook(range(50000)):\n",
    "    pt.append(lambda_pt(i))\n",
    "    \n",
    "plt.plot(pt)"
   ]
  },
  {
   "cell_type": "code",
   "execution_count": 14,
   "metadata": {},
   "outputs": [
    {
     "name": "stdout",
     "output_type": "stream",
     "text": [
      "torch.Size([1000, 3])\n",
      "torch.Size([1000])\n",
      "torch.Size([1000, 5])\n"
     ]
    }
   ],
   "source": [
    "for i in next(train_loader):\n",
    "    print(i.shape)"
   ]
  },
  {
   "cell_type": "code",
   "execution_count": 15,
   "metadata": {},
   "outputs": [
    {
     "name": "stderr",
     "output_type": "stream",
     "text": [
      "COMET WARNING: Failing to collect the installed os packages\n",
      "COMET INFO: Experiment is live on comet.ml https://www.comet.ml/maximartemev/rich2019/09fe16cc0f774c19ab05fcdd9717ed89\n",
      "\n"
     ]
    }
   ],
   "source": [
    "experiment = Experiment(api_key=\"HIZapbzNjFips0c32Co7gXkQZ\",\n",
    "                        project_name=\"rich2019\", workspace=\"maximartemev\", disabled=False)\n"
   ]
  },
  {
   "cell_type": "code",
   "execution_count": 16,
   "metadata": {},
   "outputs": [],
   "source": [
    "def calc_gradient_penalty(real_data, fake_data, fake_data2):\n",
    "    alpha = torch.rand(BATCH_SIZE, 1)\n",
    "    alpha = alpha.expand(real_data.size())\n",
    "    alpha = alpha.to(device)\n",
    "\n",
    "    interpolates = alpha * real_data + ((1 - alpha) * fake_data)\n",
    "    \n",
    "#     interpolates = torch.Tensor(interpolates, requires_grad=True)\n",
    "\n",
    "    disc_interpolates = cramer_critic(interpolates, fake_data2)\n",
    "\n",
    "    gradients = grad(outputs=disc_interpolates, inputs=interpolates,\n",
    "                     grad_outputs=torch.ones(disc_interpolates.size()).to(device),\n",
    "                     create_graph=True, retain_graph=True, only_inputs=True)[0]\n",
    "    # create_graph=True, retain_graph=True, only_inputs=True - crucial for our case\n",
    "\n",
    "    gradient_penalty = ((gradients.norm(2, dim=1) - 1) ** 2).mean()\n",
    "    return gradient_penalty\n"
   ]
  },
  {
   "cell_type": "code",
   "execution_count": 17,
   "metadata": {},
   "outputs": [],
   "source": [
    "def cramer_critic(x, y):\n",
    "    discriminated_x = netC(x)\n",
    "    return torch.norm(discriminated_x - netC(y), dim=1) - torch.norm(discriminated_x, dim=1)"
   ]
  },
  {
   "cell_type": "code",
   "execution_count": null,
   "metadata": {},
   "outputs": [
    {
     "data": {
      "image/png": "[encoded data removed]",
      "text/plain": [
       "<Figure size 1080x1080 with 6 Axes>"
      ]
     },
     "metadata": {
      "needs_background": "light"
     },
     "output_type": "display_data"
    },
    {
     "name": "stderr",
     "output_type": "stream",
     "text": [
      "  1%|          | 3281/450000 [25:00<55:53:21,  2.22it/s] "
     ]
    }
   ],
   "source": [
    "for iteration in tqdm(range(TOTAL_ITERATIONS, 10*TOTAL_ITERATIONS), position=0, leave=True):\n",
    "    for critic_iter in range(CRITIC_ITERATIONS_CONST):\n",
    "        x, weight, dlls = [i.to(device) for i in next(train_loader)]\n",
    "        \n",
    "        optC.zero_grad()\n",
    "        \n",
    "        netG.eval()\n",
    "        netC.train()\n",
    "        \n",
    "        real_full_0 = torch.cat([dlls, x], dim=1)    \n",
    "        generated_1 = torch.cat([netG(x), x], dim=1)\n",
    "        generated_2 = torch.cat([netG(x), x], dim=1)\n",
    "        \n",
    "        generator_loss = torch.mean(cramer_critic(real_full_0, generated_2) * weight - \n",
    "                                    cramer_critic(generated_1, generated_2) * weight)\n",
    "        \n",
    "        # GP\n",
    "        gradient_penalty = calc_gradient_penalty(real_full_0, generated_1, generated_2)\n",
    "        \n",
    "        critic_loss = lambda_pt(iteration) * gradient_penalty - generator_loss\n",
    "        critic_loss.backward()\n",
    "        optC.step()\n",
    "        \n",
    "    x, weight, dlls = [i.to(device) for i in next(train_loader)]\n",
    "    \n",
    "    netC.eval()\n",
    "    netG.train()\n",
    "    \n",
    "    optG.zero_grad()\n",
    "    real_full_0 = torch.cat([dlls, x], dim=1)\n",
    "    generated_1 = torch.cat([netG(x), x], dim=1)\n",
    "    generated_2 = torch.cat([netG(x), x], dim=1)\n",
    "\n",
    "    generator_loss = torch.mean(cramer_critic(real_full_0, generated_2) * weight -\n",
    "                cramer_critic(generated_1, generated_2) * weight)\n",
    "    \n",
    "    generator_loss.backward()\n",
    "    optG.step()\n",
    "    \n",
    "    experiment.log_metrics({'Generator loss': generator_loss.item(),\n",
    "                            'Critic loss': critic_loss.item()},\n",
    "                            step=iteration)\n",
    "    lr_C.step()\n",
    "    lr_G.step()\n",
    "    \n",
    "    if iteration % 1000 == 0:\n",
    "        clear_output(False)\n",
    "        with torch.no_grad():\n",
    "            x, weight, dlls = [i.to(device) for i in next(val_loader)]\n",
    "            real_full = torch.cat([dlls, x], dim=1)\n",
    "\n",
    "            generated = netG(x)\n",
    "            fig, axes = plt.subplots(3, 2, figsize=(15, 15))\n",
    "            for INDEX, ax in zip((0, 1, 2, 3, 4), axes.flatten()):\n",
    "                _, bins, _ = ax.hist(dlls[:, INDEX].cpu(),\n",
    "                                     bins=100,\n",
    "                                     label=\"data\",\n",
    "                                     normed=True,\n",
    "                                     weights=weight.cpu())\n",
    "                ax.hist(generated[:, INDEX].cpu(),\n",
    "                        bins=bins,\n",
    "                        label=\"generated\",\n",
    "                        alpha=0.5,\n",
    "                        normed=True,\n",
    "                        weights=weight.cpu())\n",
    "                ax.legend()\n",
    "                ax.set_title(utils_rich.dll_columns[INDEX])\n",
    "            experiment.log_figure()\n",
    "            plt.show()\n",
    "experiment.end()"
   ]
  },
  {
   "cell_type": "code",
   "execution_count": 25,
   "metadata": {},
   "outputs": [
    {
     "data": {
      "text/plain": [
       "['preprocessors/Pytorch_Cramer_pion_1layer_preprocessor.pkl']"
      ]
     },
     "execution_count": 25,
     "metadata": {},
     "output_type": "execute_result"
    }
   ],
   "source": [
    "torch.save({MODEL_NAME+'netC_state_dict': netC.state_dict(),\n",
    "            MODEL_NAME+'netG_state_dict': netG.state_dict(),\n",
    "            MODEL_NAME+'optC_state_dict': optC.state_dict(),\n",
    "            MODEL_NAME+'optG_state_dict': optG.state_dict(),\n",
    "            MODEL_NAME+'lr_C_state_dict': lr_C.state_dict(),\n",
    "            MODEL_NAME+'lr_G_state_dict': lr_G.state_dict()\n",
    "           }, LOGDIR)\n",
    "from sklearn.externals import joblib\n",
    "os.makedirs('./preprocessors', exist_ok=True)\n",
    "joblib.dump(scaler, os.path.join('preprocessors', MODEL_NAME) + \"_preprocessor.pkl\")"
   ]
  },
  {
   "cell_type": "code",
   "execution_count": 20,
   "metadata": {},
   "outputs": [
    {
     "name": "stderr",
     "output_type": "stream",
     "text": [
      "/home/user/miniconda/envs/py36/lib/python3.6/site-packages/ipykernel_launcher.py:12: MatplotlibDeprecationWarning: \n",
      "The 'normed' kwarg was deprecated in Matplotlib 2.1 and will be removed in 3.1. Use 'density' instead.\n",
      "  if sys.path[0] == '':\n",
      "/home/user/miniconda/envs/py36/lib/python3.6/site-packages/ipykernel_launcher.py:18: MatplotlibDeprecationWarning: \n",
      "The 'normed' kwarg was deprecated in Matplotlib 2.1 and will be removed in 3.1. Use 'density' instead.\n"
     ]
    },
    {
     "data": {
      "image/png": "[encoded data removed]",
      "text/plain": [
       "<Figure size 1080x1080 with 6 Axes>"
      ]
     },
     "metadata": {
      "needs_background": "light"
     },
     "output_type": "display_data"
    }
   ],
   "source": [
    "with torch.no_grad():\n",
    "    x, weight, dlls = [i.to(device) for i in next(val_loader)]\n",
    "    real_full = torch.cat([dlls, x], dim=1)\n",
    "\n",
    "    generated = netG(x)\n",
    "    fig, axes = plt.subplots(3, 2, figsize=(15, 15))\n",
    "    for INDEX, ax in zip((0, 1, 2, 3, 4), axes.flatten()):\n",
    "        _, bins, _ = ax.hist(dlls[:, INDEX].cpu(),\n",
    "                             bins=100,\n",
    "                             label=\"data\",\n",
    "                             normed=True,\n",
    "                             weights=weight.cpu())\n",
    "        ax.hist(generated[:, INDEX].cpu(),\n",
    "                bins=bins,\n",
    "                label=\"generated\",\n",
    "                alpha=0.5,\n",
    "                normed=True,\n",
    "                weights=weight.cpu())\n",
    "        ax.legend()\n",
    "        ax.set_title(utils_rich.dll_columns[INDEX])\n",
    "    experiment.log_figure()\n",
    "    plt.show()\n"
   ]
  },
  {
   "cell_type": "code",
   "execution_count": 27,
   "metadata": {},
   "outputs": [
    {
     "name": "stderr",
     "output_type": "stream",
     "text": [
      "100%|██████████| 4/4 [00:21<00:00,  5.29s/it]\n"
     ]
    }
   ],
   "source": [
    "eval_loader = torch.utils.data.DataLoader(ParticleSet(data_val.values),\n",
    "                                                      batch_size=N_VAL,\n",
    "                                                      shuffle=False,\n",
    "                                                      pin_memory=True)\n",
    "\n",
    "pred_dlls_ = []\n",
    "for batch in tqdm(eval_loader, position=0, leave=True):\n",
    "    x, weight, dlls = [i.to(device) for i in batch]\n",
    "    pred_dlls_.append(netG(x).detach().cpu().numpy())"
   ]
  },
  {
   "cell_type": "code",
   "execution_count": 28,
   "metadata": {},
   "outputs": [],
   "source": [
    "pred_dlls = np.concatenate(pred_dlls_, axis=0)\n",
    "pred_data = np.concatenate([pred_dlls, data_val.values[:, utils_rich.y_count:-1]], axis=1)\n",
    "\n",
    "pred_data_inversed = scaler.inverse_transform(pred_data)\n",
    "val_data_inversed = scaler.inverse_transform(data_val.iloc[:, :-1])\n"
   ]
  },
  {
   "cell_type": "code",
   "execution_count": 29,
   "metadata": {},
   "outputs": [],
   "source": [
    "val_data_inversed_ = pd.DataFrame(val_data_inversed,\n",
    "                                  columns=data_val.columns[:-1])\n",
    "for ind, col in enumerate(utils_rich.dll_columns):\n",
    "    val_data_inversed_[\"predicted_\"+col] = pred_data_inversed[:, ind]\n",
    "val_data_inversed_['probe_sWeight'] = data_val['probe_sWeight']"
   ]
  },
  {
   "cell_type": "code",
   "execution_count": 30,
   "metadata": {},
   "outputs": [],
   "source": [
    "class Wrapper:\n",
    "    def __init__(self, data):\n",
    "        self.test = data\n",
    "\n",
    "wrap = lambda x, particle: {particle: Wrapper(x)}"
   ]
  },
  {
   "cell_type": "code",
   "execution_count": 31,
   "metadata": {},
   "outputs": [
    {
     "name": "stderr",
     "output_type": "stream",
     "text": [
      "  0%|          | 0/3 [00:00<?, ?it/s]/home/user/miniconda/envs/py36/lib/python3.6/site-packages/xgboost/core.py:614: UserWarning: Use subset (sliced data) of np.ndarray is not recommended because it will generate extra copies and increase memory consumption\n",
      "  \"because it will generate extra copies and increase memory consumption\")\n",
      "100%|██████████| 3/3 [02:35<00:00, 51.78s/it]\n"
     ]
    }
   ],
   "source": [
    "from rich_utils.model_testing import eval_model\n",
    "\n",
    "scores, bins = eval_model(PARTICLE_TYPE, wrap(val_data_inversed_, PARTICLE_TYPE))"
   ]
  },
  {
   "cell_type": "code",
   "execution_count": 32,
   "metadata": {},
   "outputs": [
    {
     "name": "stdout",
     "output_type": "stream",
     "text": [
      "Particle: pion, global test score: 0.968908559982296 +- 0.001510976910452867\n"
     ]
    }
   ],
   "source": [
    "print(\"Particle: {}, global test score: {} +- {}\".format(PARTICLE_TYPE,\n",
    "                                                         scores.mean(axis=0)[0][1],\n",
    "                                                         scores.std(axis=0)[0][1]))"
   ]
  },
  {
   "cell_type": "code",
   "execution_count": null,
   "metadata": {},
   "outputs": [],
   "source": []
  }
 ],
 "metadata": {
  "kernelspec": {
   "display_name": "Python 3",
   "language": "python",
   "name": "python3"
  },
  "language_info": {
   "codemirror_mode": {
    "name": "ipython",
    "version": 3
   },
   "file_extension": ".py",
   "mimetype": "text/x-python",
   "name": "python",
   "nbconvert_exporter": "python",
   "pygments_lexer": "ipython3",
   "version": "3.6.9"
  },
  "varInspector": {
   "cols": {
    "lenName": 16,
    "lenType": 16,
    "lenVar": 40
   },
   "kernels_config": {
    "python": {
     "delete_cmd_postfix": "",
     "delete_cmd_prefix": "del ",
     "library": "var_list.py",
     "varRefreshCmd": "print(var_dic_list())"
    },
    "r": {
     "delete_cmd_postfix": ") ",
     "delete_cmd_prefix": "rm(",
     "library": "var_list.r",
     "varRefreshCmd": "cat(var_dic_list()) "
    }
   },
   "types_to_exclude": [
    "module",
    "function",
    "builtin_function_or_method",
    "instance",
    "_Feature"
   ],
   "window_display": false
  }
 },
 "nbformat": 4,
 "nbformat_minor": 2
}
